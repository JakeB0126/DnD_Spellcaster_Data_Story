{
 "cells": [
  {
   "cell_type": "code",
   "execution_count": 37,
   "metadata": {},
   "outputs": [
    {
     "data": {
      "application/vnd.plotly.v1+json": {
       "config": {
        "plotlyServerURL": "https://plot.ly"
       },
       "data": [
        {
         "hovertemplate": "Character Class=%{x}<br>Count=%{text}<extra></extra>",
         "legendgroup": "Wizard",
         "marker": {
          "color": "#2A50A1",
          "pattern": {
           "shape": ""
          }
         },
         "name": "Wizard",
         "orientation": "v",
         "showlegend": true,
         "text": {
          "bdata": "AAAAAKD290A=",
          "dtype": "f8"
         },
         "textposition": "auto",
         "type": "bar",
         "x": [
          "Wizard"
         ],
         "xaxis": "x",
         "y": {
          "bdata": "an8BAA==",
          "dtype": "i4"
         },
         "yaxis": "y"
        },
        {
         "hovertemplate": "Character Class=%{x}<br>Count=%{text}<extra></extra>",
         "legendgroup": "Cleric",
         "marker": {
          "color": "#91A1B2",
          "pattern": {
           "shape": ""
          }
         },
         "name": "Cleric",
         "orientation": "v",
         "showlegend": true,
         "text": {
          "bdata": "AAAAACDk90A=",
          "dtype": "f8"
         },
         "textposition": "auto",
         "type": "bar",
         "x": [
          "Cleric"
         ],
         "xaxis": "x",
         "y": {
          "bdata": "Qn4BAA==",
          "dtype": "i4"
         },
         "yaxis": "y"
        },
        {
         "hovertemplate": "Character Class=%{x}<br>Count=%{text}<extra></extra>",
         "legendgroup": "Bard",
         "marker": {
          "color": "#AB6DAC",
          "pattern": {
           "shape": ""
          }
         },
         "name": "Bard",
         "orientation": "v",
         "showlegend": true,
         "text": {
          "bdata": "AAAAALA09UA=",
          "dtype": "f8"
         },
         "textposition": "auto",
         "type": "bar",
         "x": [
          "Bard"
         ],
         "xaxis": "x",
         "y": {
          "bdata": "S1MBAA==",
          "dtype": "i4"
         },
         "yaxis": "y"
        },
        {
         "hovertemplate": "Character Class=%{x}<br>Count=%{text}<extra></extra>",
         "legendgroup": "Warlock",
         "marker": {
          "color": "#7B469B",
          "pattern": {
           "shape": ""
          }
         },
         "name": "Warlock",
         "orientation": "v",
         "showlegend": true,
         "text": {
          "bdata": "AAAAADAf9UA=",
          "dtype": "f8"
         },
         "textposition": "auto",
         "type": "bar",
         "x": [
          "Warlock"
         ],
         "xaxis": "x",
         "y": {
          "bdata": "81EBAA==",
          "dtype": "i4"
         },
         "yaxis": "y"
        },
        {
         "hovertemplate": "Character Class=%{x}<br>Count=%{text}<extra></extra>",
         "legendgroup": "Sorcerer",
         "marker": {
          "color": "#992E2E",
          "pattern": {
           "shape": ""
          }
         },
         "name": "Sorcerer",
         "orientation": "v",
         "showlegend": true,
         "text": {
          "bdata": "AAAAABDV80A=",
          "dtype": "f8"
         },
         "textposition": "auto",
         "type": "bar",
         "x": [
          "Sorcerer"
         ],
         "xaxis": "x",
         "y": {
          "bdata": "UT0BAA==",
          "dtype": "i4"
         },
         "yaxis": "y"
        },
        {
         "hovertemplate": "Character Class=%{x}<br>Count=%{text}<extra></extra>",
         "legendgroup": "Druid",
         "marker": {
          "color": "#7A853B",
          "pattern": {
           "shape": ""
          }
         },
         "name": "Druid",
         "orientation": "v",
         "showlegend": true,
         "text": {
          "bdata": "AAAAAOCs8kA=",
          "dtype": "f8"
         },
         "textposition": "auto",
         "type": "bar",
         "x": [
          "Druid"
         ],
         "xaxis": "x",
         "y": {
          "bdata": "zioBAA==",
          "dtype": "i4"
         },
         "yaxis": "y"
        }
       ],
       "layout": {
        "barmode": "relative",
        "height": 600,
        "legend": {
         "title": {
          "text": "Character Class"
         },
         "tracegroupgap": 0
        },
        "template": {
         "data": {
          "bar": [
           {
            "error_x": {
             "color": "#2a3f5f"
            },
            "error_y": {
             "color": "#2a3f5f"
            },
            "marker": {
             "line": {
              "color": "#E5ECF6",
              "width": 0.5
             },
             "pattern": {
              "fillmode": "overlay",
              "size": 10,
              "solidity": 0.2
             }
            },
            "type": "bar"
           }
          ],
          "barpolar": [
           {
            "marker": {
             "line": {
              "color": "#E5ECF6",
              "width": 0.5
             },
             "pattern": {
              "fillmode": "overlay",
              "size": 10,
              "solidity": 0.2
             }
            },
            "type": "barpolar"
           }
          ],
          "carpet": [
           {
            "aaxis": {
             "endlinecolor": "#2a3f5f",
             "gridcolor": "white",
             "linecolor": "white",
             "minorgridcolor": "white",
             "startlinecolor": "#2a3f5f"
            },
            "baxis": {
             "endlinecolor": "#2a3f5f",
             "gridcolor": "white",
             "linecolor": "white",
             "minorgridcolor": "white",
             "startlinecolor": "#2a3f5f"
            },
            "type": "carpet"
           }
          ],
          "choropleth": [
           {
            "colorbar": {
             "outlinewidth": 0,
             "ticks": ""
            },
            "type": "choropleth"
           }
          ],
          "contour": [
           {
            "colorbar": {
             "outlinewidth": 0,
             "ticks": ""
            },
            "colorscale": [
             [
              0,
              "#0d0887"
             ],
             [
              0.1111111111111111,
              "#46039f"
             ],
             [
              0.2222222222222222,
              "#7201a8"
             ],
             [
              0.3333333333333333,
              "#9c179e"
             ],
             [
              0.4444444444444444,
              "#bd3786"
             ],
             [
              0.5555555555555556,
              "#d8576b"
             ],
             [
              0.6666666666666666,
              "#ed7953"
             ],
             [
              0.7777777777777778,
              "#fb9f3a"
             ],
             [
              0.8888888888888888,
              "#fdca26"
             ],
             [
              1,
              "#f0f921"
             ]
            ],
            "type": "contour"
           }
          ],
          "contourcarpet": [
           {
            "colorbar": {
             "outlinewidth": 0,
             "ticks": ""
            },
            "type": "contourcarpet"
           }
          ],
          "heatmap": [
           {
            "colorbar": {
             "outlinewidth": 0,
             "ticks": ""
            },
            "colorscale": [
             [
              0,
              "#0d0887"
             ],
             [
              0.1111111111111111,
              "#46039f"
             ],
             [
              0.2222222222222222,
              "#7201a8"
             ],
             [
              0.3333333333333333,
              "#9c179e"
             ],
             [
              0.4444444444444444,
              "#bd3786"
             ],
             [
              0.5555555555555556,
              "#d8576b"
             ],
             [
              0.6666666666666666,
              "#ed7953"
             ],
             [
              0.7777777777777778,
              "#fb9f3a"
             ],
             [
              0.8888888888888888,
              "#fdca26"
             ],
             [
              1,
              "#f0f921"
             ]
            ],
            "type": "heatmap"
           }
          ],
          "histogram": [
           {
            "marker": {
             "pattern": {
              "fillmode": "overlay",
              "size": 10,
              "solidity": 0.2
             }
            },
            "type": "histogram"
           }
          ],
          "histogram2d": [
           {
            "colorbar": {
             "outlinewidth": 0,
             "ticks": ""
            },
            "colorscale": [
             [
              0,
              "#0d0887"
             ],
             [
              0.1111111111111111,
              "#46039f"
             ],
             [
              0.2222222222222222,
              "#7201a8"
             ],
             [
              0.3333333333333333,
              "#9c179e"
             ],
             [
              0.4444444444444444,
              "#bd3786"
             ],
             [
              0.5555555555555556,
              "#d8576b"
             ],
             [
              0.6666666666666666,
              "#ed7953"
             ],
             [
              0.7777777777777778,
              "#fb9f3a"
             ],
             [
              0.8888888888888888,
              "#fdca26"
             ],
             [
              1,
              "#f0f921"
             ]
            ],
            "type": "histogram2d"
           }
          ],
          "histogram2dcontour": [
           {
            "colorbar": {
             "outlinewidth": 0,
             "ticks": ""
            },
            "colorscale": [
             [
              0,
              "#0d0887"
             ],
             [
              0.1111111111111111,
              "#46039f"
             ],
             [
              0.2222222222222222,
              "#7201a8"
             ],
             [
              0.3333333333333333,
              "#9c179e"
             ],
             [
              0.4444444444444444,
              "#bd3786"
             ],
             [
              0.5555555555555556,
              "#d8576b"
             ],
             [
              0.6666666666666666,
              "#ed7953"
             ],
             [
              0.7777777777777778,
              "#fb9f3a"
             ],
             [
              0.8888888888888888,
              "#fdca26"
             ],
             [
              1,
              "#f0f921"
             ]
            ],
            "type": "histogram2dcontour"
           }
          ],
          "mesh3d": [
           {
            "colorbar": {
             "outlinewidth": 0,
             "ticks": ""
            },
            "type": "mesh3d"
           }
          ],
          "parcoords": [
           {
            "line": {
             "colorbar": {
              "outlinewidth": 0,
              "ticks": ""
             }
            },
            "type": "parcoords"
           }
          ],
          "pie": [
           {
            "automargin": true,
            "type": "pie"
           }
          ],
          "scatter": [
           {
            "fillpattern": {
             "fillmode": "overlay",
             "size": 10,
             "solidity": 0.2
            },
            "type": "scatter"
           }
          ],
          "scatter3d": [
           {
            "line": {
             "colorbar": {
              "outlinewidth": 0,
              "ticks": ""
             }
            },
            "marker": {
             "colorbar": {
              "outlinewidth": 0,
              "ticks": ""
             }
            },
            "type": "scatter3d"
           }
          ],
          "scattercarpet": [
           {
            "marker": {
             "colorbar": {
              "outlinewidth": 0,
              "ticks": ""
             }
            },
            "type": "scattercarpet"
           }
          ],
          "scattergeo": [
           {
            "marker": {
             "colorbar": {
              "outlinewidth": 0,
              "ticks": ""
             }
            },
            "type": "scattergeo"
           }
          ],
          "scattergl": [
           {
            "marker": {
             "colorbar": {
              "outlinewidth": 0,
              "ticks": ""
             }
            },
            "type": "scattergl"
           }
          ],
          "scattermap": [
           {
            "marker": {
             "colorbar": {
              "outlinewidth": 0,
              "ticks": ""
             }
            },
            "type": "scattermap"
           }
          ],
          "scattermapbox": [
           {
            "marker": {
             "colorbar": {
              "outlinewidth": 0,
              "ticks": ""
             }
            },
            "type": "scattermapbox"
           }
          ],
          "scatterpolar": [
           {
            "marker": {
             "colorbar": {
              "outlinewidth": 0,
              "ticks": ""
             }
            },
            "type": "scatterpolar"
           }
          ],
          "scatterpolargl": [
           {
            "marker": {
             "colorbar": {
              "outlinewidth": 0,
              "ticks": ""
             }
            },
            "type": "scatterpolargl"
           }
          ],
          "scatterternary": [
           {
            "marker": {
             "colorbar": {
              "outlinewidth": 0,
              "ticks": ""
             }
            },
            "type": "scatterternary"
           }
          ],
          "surface": [
           {
            "colorbar": {
             "outlinewidth": 0,
             "ticks": ""
            },
            "colorscale": [
             [
              0,
              "#0d0887"
             ],
             [
              0.1111111111111111,
              "#46039f"
             ],
             [
              0.2222222222222222,
              "#7201a8"
             ],
             [
              0.3333333333333333,
              "#9c179e"
             ],
             [
              0.4444444444444444,
              "#bd3786"
             ],
             [
              0.5555555555555556,
              "#d8576b"
             ],
             [
              0.6666666666666666,
              "#ed7953"
             ],
             [
              0.7777777777777778,
              "#fb9f3a"
             ],
             [
              0.8888888888888888,
              "#fdca26"
             ],
             [
              1,
              "#f0f921"
             ]
            ],
            "type": "surface"
           }
          ],
          "table": [
           {
            "cells": {
             "fill": {
              "color": "#EBF0F8"
             },
             "line": {
              "color": "white"
             }
            },
            "header": {
             "fill": {
              "color": "#C8D4E3"
             },
             "line": {
              "color": "white"
             }
            },
            "type": "table"
           }
          ]
         },
         "layout": {
          "annotationdefaults": {
           "arrowcolor": "#2a3f5f",
           "arrowhead": 0,
           "arrowwidth": 1
          },
          "autotypenumbers": "strict",
          "coloraxis": {
           "colorbar": {
            "outlinewidth": 0,
            "ticks": ""
           }
          },
          "colorscale": {
           "diverging": [
            [
             0,
             "#8e0152"
            ],
            [
             0.1,
             "#c51b7d"
            ],
            [
             0.2,
             "#de77ae"
            ],
            [
             0.3,
             "#f1b6da"
            ],
            [
             0.4,
             "#fde0ef"
            ],
            [
             0.5,
             "#f7f7f7"
            ],
            [
             0.6,
             "#e6f5d0"
            ],
            [
             0.7,
             "#b8e186"
            ],
            [
             0.8,
             "#7fbc41"
            ],
            [
             0.9,
             "#4d9221"
            ],
            [
             1,
             "#276419"
            ]
           ],
           "sequential": [
            [
             0,
             "#0d0887"
            ],
            [
             0.1111111111111111,
             "#46039f"
            ],
            [
             0.2222222222222222,
             "#7201a8"
            ],
            [
             0.3333333333333333,
             "#9c179e"
            ],
            [
             0.4444444444444444,
             "#bd3786"
            ],
            [
             0.5555555555555556,
             "#d8576b"
            ],
            [
             0.6666666666666666,
             "#ed7953"
            ],
            [
             0.7777777777777778,
             "#fb9f3a"
            ],
            [
             0.8888888888888888,
             "#fdca26"
            ],
            [
             1,
             "#f0f921"
            ]
           ],
           "sequentialminus": [
            [
             0,
             "#0d0887"
            ],
            [
             0.1111111111111111,
             "#46039f"
            ],
            [
             0.2222222222222222,
             "#7201a8"
            ],
            [
             0.3333333333333333,
             "#9c179e"
            ],
            [
             0.4444444444444444,
             "#bd3786"
            ],
            [
             0.5555555555555556,
             "#d8576b"
            ],
            [
             0.6666666666666666,
             "#ed7953"
            ],
            [
             0.7777777777777778,
             "#fb9f3a"
            ],
            [
             0.8888888888888888,
             "#fdca26"
            ],
            [
             1,
             "#f0f921"
            ]
           ]
          },
          "colorway": [
           "#636efa",
           "#EF553B",
           "#00cc96",
           "#ab63fa",
           "#FFA15A",
           "#19d3f3",
           "#FF6692",
           "#B6E880",
           "#FF97FF",
           "#FECB52"
          ],
          "font": {
           "color": "#2a3f5f"
          },
          "geo": {
           "bgcolor": "white",
           "lakecolor": "white",
           "landcolor": "#E5ECF6",
           "showlakes": true,
           "showland": true,
           "subunitcolor": "white"
          },
          "hoverlabel": {
           "align": "left"
          },
          "hovermode": "closest",
          "mapbox": {
           "style": "light"
          },
          "paper_bgcolor": "white",
          "plot_bgcolor": "#E5ECF6",
          "polar": {
           "angularaxis": {
            "gridcolor": "white",
            "linecolor": "white",
            "ticks": ""
           },
           "bgcolor": "#E5ECF6",
           "radialaxis": {
            "gridcolor": "white",
            "linecolor": "white",
            "ticks": ""
           }
          },
          "scene": {
           "xaxis": {
            "backgroundcolor": "#E5ECF6",
            "gridcolor": "white",
            "gridwidth": 2,
            "linecolor": "white",
            "showbackground": true,
            "ticks": "",
            "zerolinecolor": "white"
           },
           "yaxis": {
            "backgroundcolor": "#E5ECF6",
            "gridcolor": "white",
            "gridwidth": 2,
            "linecolor": "white",
            "showbackground": true,
            "ticks": "",
            "zerolinecolor": "white"
           },
           "zaxis": {
            "backgroundcolor": "#E5ECF6",
            "gridcolor": "white",
            "gridwidth": 2,
            "linecolor": "white",
            "showbackground": true,
            "ticks": "",
            "zerolinecolor": "white"
           }
          },
          "shapedefaults": {
           "line": {
            "color": "#2a3f5f"
           }
          },
          "ternary": {
           "aaxis": {
            "gridcolor": "white",
            "linecolor": "white",
            "ticks": ""
           },
           "baxis": {
            "gridcolor": "white",
            "linecolor": "white",
            "ticks": ""
           },
           "bgcolor": "#E5ECF6",
           "caxis": {
            "gridcolor": "white",
            "linecolor": "white",
            "ticks": ""
           }
          },
          "title": {
           "x": 0.05
          },
          "xaxis": {
           "automargin": true,
           "gridcolor": "white",
           "linecolor": "white",
           "ticks": "",
           "title": {
            "standoff": 15
           },
           "zerolinecolor": "white",
           "zerolinewidth": 2
          },
          "yaxis": {
           "automargin": true,
           "gridcolor": "white",
           "linecolor": "white",
           "ticks": "",
           "title": {
            "standoff": 15
           },
           "zerolinecolor": "white",
           "zerolinewidth": 2
          }
         }
        },
        "title": {
         "text": "Number of Players Per Character Class"
        },
        "width": 700,
        "xaxis": {
         "anchor": "y",
         "categoryarray": [
          "Wizard",
          "Cleric",
          "Bard",
          "Warlock",
          "Sorcerer",
          "Druid"
         ],
         "categoryorder": "array",
         "domain": [
          0,
          1
         ],
         "tickangle": -45,
         "title": {
          "text": "Character Class"
         }
        },
        "yaxis": {
         "anchor": "x",
         "domain": [
          0,
          1
         ],
         "title": {
          "text": "Number of Players"
         }
        }
       }
      }
     },
     "metadata": {},
     "output_type": "display_data"
    }
   ],
   "source": [
    "import pandas as pd\n",
    "import plotly.express as px\n",
    "\n",
    "# Load big dataset\n",
    "zip_path = \"over_one_mil_chars.zip\"\n",
    "df = pd.read_csv(zip_path, compression='zip')\n",
    "\n",
    "# Filter for only spellcasting classes\n",
    "selected_classes = [\"Bard\", \"Cleric\", \"Druid\", \"Sorcerer\", \"Warlock\", \"Wizard\"]\n",
    "df_filtered = df[df[\"class_starting\"].isin(selected_classes)]\n",
    "\n",
    "# Count number of players per class\n",
    "class_count = df_filtered[\"class_starting\"].value_counts().reset_index()\n",
    "class_count.columns = [\"Class\", \"Number of Players\"]\n",
    "\n",
    "# Custom colors\n",
    "class_colors = {\n",
    "    \"Bard\": \"#AB6DAC\",     # Bard Rogue\n",
    "    \"Cleric\": \"#91A1B2\",   # Cleric Silver\n",
    "    \"Druid\": \"#7A853B\",    # Druid Moss\n",
    "    \"Sorcerer\": \"#992E2E\", # Sorcerer Blood\n",
    "    \"Warlock\": \"#7B469B\",  # Warlock Iris\n",
    "    \"Wizard\": \"#2A50A1\"    # Wizard Cobalt\n",
    "}\n",
    "\n",
    "# Create interactive bar chart\n",
    "fig = px.bar(\n",
    "    class_count,\n",
    "    x=\"Class\",\n",
    "    y=\"Number of Players\",\n",
    "    # Show count labels on bars\n",
    "    text=\"Number of Players\",  \n",
    "    title=\"Number of Players Per Character Class\",\n",
    "    labels={\"Class\": \"Character Class\", \"Number of Players\": \"Count\"},\n",
    "    color=\"Class\",\n",
    "    # Apply custom color scheme\n",
    "    color_discrete_map=class_colors \n",
    ")\n",
    "\n",
    "# Modify layout\n",
    "fig.update_layout(\n",
    "    xaxis_title=\"Character Class\",\n",
    "    yaxis_title=\"Number of Players\",\n",
    "    # Rotate x-axis labels to improve readability\n",
    "    xaxis_tickangle=-45,  \n",
    "    height=600, width=700\n",
    ")\n",
    "\n",
    "# Show chart\n",
    "fig.show()\n"
   ]
  },
  {
   "cell_type": "code",
   "execution_count": 36,
   "metadata": {},
   "outputs": [
    {
     "name": "stderr",
     "output_type": "stream",
     "text": [
      "C:\\Users\\garys\\AppData\\Local\\Temp\\ipykernel_42988\\1494733229.py:20: FutureWarning:\n",
      "\n",
      "The default of observed=False is deprecated and will be changed to True in a future version of pandas. Pass observed=False to retain current behavior or observed=True to adopt the future default and silence this warning.\n",
      "\n"
     ]
    },
    {
     "data": {
      "application/vnd.plotly.v1+json": {
       "config": {
        "plotlyServerURL": "https://plot.ly"
       },
       "data": [
        {
         "alignmentgroup": "True",
         "hovertemplate": "Class=Bard<br>Level Range=%{x}<br>Percent of Players (%)=%{text}<extra></extra>",
         "legendgroup": "Bard",
         "marker": {
          "color": "#AB6DAC",
          "pattern": {
           "shape": ""
          }
         },
         "name": "Bard",
         "offsetgroup": "Bard",
         "orientation": "v",
         "showlegend": true,
         "text": {
          "bdata": "3s9UUXCOMUD3hW/XXmYxQO+cyomOjy5A5oBZy3p5K0A=",
          "dtype": "f8"
         },
         "textposition": "outside",
         "texttemplate": "%{text:.1f}%",
         "type": "bar",
         "x": [
          "1-5",
          "6-10",
          "11-15",
          "16-20"
         ],
         "xaxis": "x",
         "y": {
          "bdata": "3s9UUXCOMUD3hW/XXmYxQO+cyomOjy5A5oBZy3p5K0A=",
          "dtype": "f8"
         },
         "yaxis": "y"
        },
        {
         "alignmentgroup": "True",
         "hovertemplate": "Class=Cleric<br>Level Range=%{x}<br>Percent of Players (%)=%{text}<extra></extra>",
         "legendgroup": "Cleric",
         "marker": {
          "color": "#91A1B2",
          "pattern": {
           "shape": ""
          }
         },
         "name": "Cleric",
         "offsetgroup": "Cleric",
         "orientation": "v",
         "showlegend": true,
         "text": {
          "bdata": "0O/cXc3aMkAY3JoZkZ4zQOHOG9FH7zNAA4BzEaE0MEA=",
          "dtype": "f8"
         },
         "textposition": "outside",
         "texttemplate": "%{text:.1f}%",
         "type": "bar",
         "x": [
          "1-5",
          "6-10",
          "11-15",
          "16-20"
         ],
         "xaxis": "x",
         "y": {
          "bdata": "0O/cXc3aMkAY3JoZkZ4zQOHOG9FH7zNAA4BzEaE0MEA=",
          "dtype": "f8"
         },
         "yaxis": "y"
        },
        {
         "alignmentgroup": "True",
         "hovertemplate": "Class=Druid<br>Level Range=%{x}<br>Percent of Players (%)=%{text}<extra></extra>",
         "legendgroup": "Druid",
         "marker": {
          "color": "#7A853B",
          "pattern": {
           "shape": ""
          }
         },
         "name": "Druid",
         "offsetgroup": "Druid",
         "orientation": "v",
         "showlegend": true,
         "text": {
          "bdata": "d0+TO7JjL0Cvn4+UmbstQDi8TsfVLCtA3gfFlNiKKEA=",
          "dtype": "f8"
         },
         "textposition": "outside",
         "texttemplate": "%{text:.1f}%",
         "type": "bar",
         "x": [
          "1-5",
          "6-10",
          "11-15",
          "16-20"
         ],
         "xaxis": "x",
         "y": {
          "bdata": "d0+TO7JjL0Cvn4+UmbstQDi8TsfVLCtA3gfFlNiKKEA=",
          "dtype": "f8"
         },
         "yaxis": "y"
        },
        {
         "alignmentgroup": "True",
         "hovertemplate": "Class=Sorcerer<br>Level Range=%{x}<br>Percent of Players (%)=%{text}<extra></extra>",
         "legendgroup": "Sorcerer",
         "marker": {
          "color": "#992E2E",
          "pattern": {
           "shape": ""
          }
         },
         "name": "Sorcerer",
         "offsetgroup": "Sorcerer",
         "orientation": "v",
         "showlegend": true,
         "text": {
          "bdata": "Fjdu1lRNLEApagg5Ld0sQIKa2HH8MC9AcPv+r3SZL0A=",
          "dtype": "f8"
         },
         "textposition": "outside",
         "texttemplate": "%{text:.1f}%",
         "type": "bar",
         "x": [
          "1-5",
          "6-10",
          "11-15",
          "16-20"
         ],
         "xaxis": "x",
         "y": {
          "bdata": "Fjdu1lRNLEApagg5Ld0sQIKa2HH8MC9AcPv+r3SZL0A=",
          "dtype": "f8"
         },
         "yaxis": "y"
        },
        {
         "alignmentgroup": "True",
         "hovertemplate": "Class=Warlock<br>Level Range=%{x}<br>Percent of Players (%)=%{text}<extra></extra>",
         "legendgroup": "Warlock",
         "marker": {
          "color": "#7B469B",
          "pattern": {
           "shape": ""
          }
         },
         "name": "Warlock",
         "offsetgroup": "Warlock",
         "orientation": "v",
         "showlegend": true,
         "text": {
          "bdata": "bDvKw7BILkARXVqd8botQLcwkdWfKy5AsP2kI9cuMUA=",
          "dtype": "f8"
         },
         "textposition": "outside",
         "texttemplate": "%{text:.1f}%",
         "type": "bar",
         "x": [
          "1-5",
          "6-10",
          "11-15",
          "16-20"
         ],
         "xaxis": "x",
         "y": {
          "bdata": "bDvKw7BILkARXVqd8botQLcwkdWfKy5AsP2kI9cuMUA=",
          "dtype": "f8"
         },
         "yaxis": "y"
        },
        {
         "alignmentgroup": "True",
         "hovertemplate": "Class=Wizard<br>Level Range=%{x}<br>Percent of Players (%)=%{text}<extra></extra>",
         "legendgroup": "Wizard",
         "marker": {
          "color": "#2A50A1",
          "pattern": {
           "shape": ""
          }
         },
         "name": "Wizard",
         "offsetgroup": "Wizard",
         "orientation": "v",
         "showlegend": true,
         "text": {
          "bdata": "VV/oZeaZMkB9anzZM9EyQO6eouI3hDRAMsDYwqPNOEA=",
          "dtype": "f8"
         },
         "textposition": "outside",
         "texttemplate": "%{text:.1f}%",
         "type": "bar",
         "x": [
          "1-5",
          "6-10",
          "11-15",
          "16-20"
         ],
         "xaxis": "x",
         "y": {
          "bdata": "VV/oZeaZMkB9anzZM9EyQO6eouI3hDRAMsDYwqPNOEA=",
          "dtype": "f8"
         },
         "yaxis": "y"
        }
       ],
       "layout": {
        "barmode": "group",
        "height": 600,
        "legend": {
         "title": {
          "text": "Class"
         },
         "tracegroupgap": 0
        },
        "template": {
         "data": {
          "bar": [
           {
            "error_x": {
             "color": "#2a3f5f"
            },
            "error_y": {
             "color": "#2a3f5f"
            },
            "marker": {
             "line": {
              "color": "#E5ECF6",
              "width": 0.5
             },
             "pattern": {
              "fillmode": "overlay",
              "size": 10,
              "solidity": 0.2
             }
            },
            "type": "bar"
           }
          ],
          "barpolar": [
           {
            "marker": {
             "line": {
              "color": "#E5ECF6",
              "width": 0.5
             },
             "pattern": {
              "fillmode": "overlay",
              "size": 10,
              "solidity": 0.2
             }
            },
            "type": "barpolar"
           }
          ],
          "carpet": [
           {
            "aaxis": {
             "endlinecolor": "#2a3f5f",
             "gridcolor": "white",
             "linecolor": "white",
             "minorgridcolor": "white",
             "startlinecolor": "#2a3f5f"
            },
            "baxis": {
             "endlinecolor": "#2a3f5f",
             "gridcolor": "white",
             "linecolor": "white",
             "minorgridcolor": "white",
             "startlinecolor": "#2a3f5f"
            },
            "type": "carpet"
           }
          ],
          "choropleth": [
           {
            "colorbar": {
             "outlinewidth": 0,
             "ticks": ""
            },
            "type": "choropleth"
           }
          ],
          "contour": [
           {
            "colorbar": {
             "outlinewidth": 0,
             "ticks": ""
            },
            "colorscale": [
             [
              0,
              "#0d0887"
             ],
             [
              0.1111111111111111,
              "#46039f"
             ],
             [
              0.2222222222222222,
              "#7201a8"
             ],
             [
              0.3333333333333333,
              "#9c179e"
             ],
             [
              0.4444444444444444,
              "#bd3786"
             ],
             [
              0.5555555555555556,
              "#d8576b"
             ],
             [
              0.6666666666666666,
              "#ed7953"
             ],
             [
              0.7777777777777778,
              "#fb9f3a"
             ],
             [
              0.8888888888888888,
              "#fdca26"
             ],
             [
              1,
              "#f0f921"
             ]
            ],
            "type": "contour"
           }
          ],
          "contourcarpet": [
           {
            "colorbar": {
             "outlinewidth": 0,
             "ticks": ""
            },
            "type": "contourcarpet"
           }
          ],
          "heatmap": [
           {
            "colorbar": {
             "outlinewidth": 0,
             "ticks": ""
            },
            "colorscale": [
             [
              0,
              "#0d0887"
             ],
             [
              0.1111111111111111,
              "#46039f"
             ],
             [
              0.2222222222222222,
              "#7201a8"
             ],
             [
              0.3333333333333333,
              "#9c179e"
             ],
             [
              0.4444444444444444,
              "#bd3786"
             ],
             [
              0.5555555555555556,
              "#d8576b"
             ],
             [
              0.6666666666666666,
              "#ed7953"
             ],
             [
              0.7777777777777778,
              "#fb9f3a"
             ],
             [
              0.8888888888888888,
              "#fdca26"
             ],
             [
              1,
              "#f0f921"
             ]
            ],
            "type": "heatmap"
           }
          ],
          "histogram": [
           {
            "marker": {
             "pattern": {
              "fillmode": "overlay",
              "size": 10,
              "solidity": 0.2
             }
            },
            "type": "histogram"
           }
          ],
          "histogram2d": [
           {
            "colorbar": {
             "outlinewidth": 0,
             "ticks": ""
            },
            "colorscale": [
             [
              0,
              "#0d0887"
             ],
             [
              0.1111111111111111,
              "#46039f"
             ],
             [
              0.2222222222222222,
              "#7201a8"
             ],
             [
              0.3333333333333333,
              "#9c179e"
             ],
             [
              0.4444444444444444,
              "#bd3786"
             ],
             [
              0.5555555555555556,
              "#d8576b"
             ],
             [
              0.6666666666666666,
              "#ed7953"
             ],
             [
              0.7777777777777778,
              "#fb9f3a"
             ],
             [
              0.8888888888888888,
              "#fdca26"
             ],
             [
              1,
              "#f0f921"
             ]
            ],
            "type": "histogram2d"
           }
          ],
          "histogram2dcontour": [
           {
            "colorbar": {
             "outlinewidth": 0,
             "ticks": ""
            },
            "colorscale": [
             [
              0,
              "#0d0887"
             ],
             [
              0.1111111111111111,
              "#46039f"
             ],
             [
              0.2222222222222222,
              "#7201a8"
             ],
             [
              0.3333333333333333,
              "#9c179e"
             ],
             [
              0.4444444444444444,
              "#bd3786"
             ],
             [
              0.5555555555555556,
              "#d8576b"
             ],
             [
              0.6666666666666666,
              "#ed7953"
             ],
             [
              0.7777777777777778,
              "#fb9f3a"
             ],
             [
              0.8888888888888888,
              "#fdca26"
             ],
             [
              1,
              "#f0f921"
             ]
            ],
            "type": "histogram2dcontour"
           }
          ],
          "mesh3d": [
           {
            "colorbar": {
             "outlinewidth": 0,
             "ticks": ""
            },
            "type": "mesh3d"
           }
          ],
          "parcoords": [
           {
            "line": {
             "colorbar": {
              "outlinewidth": 0,
              "ticks": ""
             }
            },
            "type": "parcoords"
           }
          ],
          "pie": [
           {
            "automargin": true,
            "type": "pie"
           }
          ],
          "scatter": [
           {
            "fillpattern": {
             "fillmode": "overlay",
             "size": 10,
             "solidity": 0.2
            },
            "type": "scatter"
           }
          ],
          "scatter3d": [
           {
            "line": {
             "colorbar": {
              "outlinewidth": 0,
              "ticks": ""
             }
            },
            "marker": {
             "colorbar": {
              "outlinewidth": 0,
              "ticks": ""
             }
            },
            "type": "scatter3d"
           }
          ],
          "scattercarpet": [
           {
            "marker": {
             "colorbar": {
              "outlinewidth": 0,
              "ticks": ""
             }
            },
            "type": "scattercarpet"
           }
          ],
          "scattergeo": [
           {
            "marker": {
             "colorbar": {
              "outlinewidth": 0,
              "ticks": ""
             }
            },
            "type": "scattergeo"
           }
          ],
          "scattergl": [
           {
            "marker": {
             "colorbar": {
              "outlinewidth": 0,
              "ticks": ""
             }
            },
            "type": "scattergl"
           }
          ],
          "scattermap": [
           {
            "marker": {
             "colorbar": {
              "outlinewidth": 0,
              "ticks": ""
             }
            },
            "type": "scattermap"
           }
          ],
          "scattermapbox": [
           {
            "marker": {
             "colorbar": {
              "outlinewidth": 0,
              "ticks": ""
             }
            },
            "type": "scattermapbox"
           }
          ],
          "scatterpolar": [
           {
            "marker": {
             "colorbar": {
              "outlinewidth": 0,
              "ticks": ""
             }
            },
            "type": "scatterpolar"
           }
          ],
          "scatterpolargl": [
           {
            "marker": {
             "colorbar": {
              "outlinewidth": 0,
              "ticks": ""
             }
            },
            "type": "scatterpolargl"
           }
          ],
          "scatterternary": [
           {
            "marker": {
             "colorbar": {
              "outlinewidth": 0,
              "ticks": ""
             }
            },
            "type": "scatterternary"
           }
          ],
          "surface": [
           {
            "colorbar": {
             "outlinewidth": 0,
             "ticks": ""
            },
            "colorscale": [
             [
              0,
              "#0d0887"
             ],
             [
              0.1111111111111111,
              "#46039f"
             ],
             [
              0.2222222222222222,
              "#7201a8"
             ],
             [
              0.3333333333333333,
              "#9c179e"
             ],
             [
              0.4444444444444444,
              "#bd3786"
             ],
             [
              0.5555555555555556,
              "#d8576b"
             ],
             [
              0.6666666666666666,
              "#ed7953"
             ],
             [
              0.7777777777777778,
              "#fb9f3a"
             ],
             [
              0.8888888888888888,
              "#fdca26"
             ],
             [
              1,
              "#f0f921"
             ]
            ],
            "type": "surface"
           }
          ],
          "table": [
           {
            "cells": {
             "fill": {
              "color": "#EBF0F8"
             },
             "line": {
              "color": "white"
             }
            },
            "header": {
             "fill": {
              "color": "#C8D4E3"
             },
             "line": {
              "color": "white"
             }
            },
            "type": "table"
           }
          ]
         },
         "layout": {
          "annotationdefaults": {
           "arrowcolor": "#2a3f5f",
           "arrowhead": 0,
           "arrowwidth": 1
          },
          "autotypenumbers": "strict",
          "coloraxis": {
           "colorbar": {
            "outlinewidth": 0,
            "ticks": ""
           }
          },
          "colorscale": {
           "diverging": [
            [
             0,
             "#8e0152"
            ],
            [
             0.1,
             "#c51b7d"
            ],
            [
             0.2,
             "#de77ae"
            ],
            [
             0.3,
             "#f1b6da"
            ],
            [
             0.4,
             "#fde0ef"
            ],
            [
             0.5,
             "#f7f7f7"
            ],
            [
             0.6,
             "#e6f5d0"
            ],
            [
             0.7,
             "#b8e186"
            ],
            [
             0.8,
             "#7fbc41"
            ],
            [
             0.9,
             "#4d9221"
            ],
            [
             1,
             "#276419"
            ]
           ],
           "sequential": [
            [
             0,
             "#0d0887"
            ],
            [
             0.1111111111111111,
             "#46039f"
            ],
            [
             0.2222222222222222,
             "#7201a8"
            ],
            [
             0.3333333333333333,
             "#9c179e"
            ],
            [
             0.4444444444444444,
             "#bd3786"
            ],
            [
             0.5555555555555556,
             "#d8576b"
            ],
            [
             0.6666666666666666,
             "#ed7953"
            ],
            [
             0.7777777777777778,
             "#fb9f3a"
            ],
            [
             0.8888888888888888,
             "#fdca26"
            ],
            [
             1,
             "#f0f921"
            ]
           ],
           "sequentialminus": [
            [
             0,
             "#0d0887"
            ],
            [
             0.1111111111111111,
             "#46039f"
            ],
            [
             0.2222222222222222,
             "#7201a8"
            ],
            [
             0.3333333333333333,
             "#9c179e"
            ],
            [
             0.4444444444444444,
             "#bd3786"
            ],
            [
             0.5555555555555556,
             "#d8576b"
            ],
            [
             0.6666666666666666,
             "#ed7953"
            ],
            [
             0.7777777777777778,
             "#fb9f3a"
            ],
            [
             0.8888888888888888,
             "#fdca26"
            ],
            [
             1,
             "#f0f921"
            ]
           ]
          },
          "colorway": [
           "#636efa",
           "#EF553B",
           "#00cc96",
           "#ab63fa",
           "#FFA15A",
           "#19d3f3",
           "#FF6692",
           "#B6E880",
           "#FF97FF",
           "#FECB52"
          ],
          "font": {
           "color": "#2a3f5f"
          },
          "geo": {
           "bgcolor": "white",
           "lakecolor": "white",
           "landcolor": "#E5ECF6",
           "showlakes": true,
           "showland": true,
           "subunitcolor": "white"
          },
          "hoverlabel": {
           "align": "left"
          },
          "hovermode": "closest",
          "mapbox": {
           "style": "light"
          },
          "paper_bgcolor": "white",
          "plot_bgcolor": "#E5ECF6",
          "polar": {
           "angularaxis": {
            "gridcolor": "white",
            "linecolor": "white",
            "ticks": ""
           },
           "bgcolor": "#E5ECF6",
           "radialaxis": {
            "gridcolor": "white",
            "linecolor": "white",
            "ticks": ""
           }
          },
          "scene": {
           "xaxis": {
            "backgroundcolor": "#E5ECF6",
            "gridcolor": "white",
            "gridwidth": 2,
            "linecolor": "white",
            "showbackground": true,
            "ticks": "",
            "zerolinecolor": "white"
           },
           "yaxis": {
            "backgroundcolor": "#E5ECF6",
            "gridcolor": "white",
            "gridwidth": 2,
            "linecolor": "white",
            "showbackground": true,
            "ticks": "",
            "zerolinecolor": "white"
           },
           "zaxis": {
            "backgroundcolor": "#E5ECF6",
            "gridcolor": "white",
            "gridwidth": 2,
            "linecolor": "white",
            "showbackground": true,
            "ticks": "",
            "zerolinecolor": "white"
           }
          },
          "shapedefaults": {
           "line": {
            "color": "#2a3f5f"
           }
          },
          "ternary": {
           "aaxis": {
            "gridcolor": "white",
            "linecolor": "white",
            "ticks": ""
           },
           "baxis": {
            "gridcolor": "white",
            "linecolor": "white",
            "ticks": ""
           },
           "bgcolor": "#E5ECF6",
           "caxis": {
            "gridcolor": "white",
            "linecolor": "white",
            "ticks": ""
           }
          },
          "title": {
           "x": 0.05
          },
          "xaxis": {
           "automargin": true,
           "gridcolor": "white",
           "linecolor": "white",
           "ticks": "",
           "title": {
            "standoff": 15
           },
           "zerolinecolor": "white",
           "zerolinewidth": 2
          },
          "yaxis": {
           "automargin": true,
           "gridcolor": "white",
           "linecolor": "white",
           "ticks": "",
           "title": {
            "standoff": 15
           },
           "zerolinecolor": "white",
           "zerolinewidth": 2
          }
         }
        },
        "title": {
         "text": "Class Popularity Across Level Ranges"
        },
        "width": 1000,
        "xaxis": {
         "anchor": "y",
         "domain": [
          0,
          1
         ],
         "tickangle": -45,
         "title": {
          "text": "Level Range"
         }
        },
        "yaxis": {
         "anchor": "x",
         "domain": [
          0,
          1
         ],
         "title": {
          "text": "Percentage of Players"
         }
        }
       }
      }
     },
     "metadata": {},
     "output_type": "display_data"
    }
   ],
   "source": [
    "import plotly.express as px\n",
    "\n",
    "# Load dataset\n",
    "zip_path = \"over_one_mil_chars.zip\"\n",
    "df = pd.read_csv(zip_path, compression='zip', usecols=[\"class_starting\", \"total_level\"])\n",
    "\n",
    "# Define level bins and create some labels\n",
    "bins = [1, 5, 10, 15, 20]\n",
    "labels = [\"1-5\", \"6-10\", \"11-15\", \"16-20\"]\n",
    "df[\"level_range\"] = pd.cut(df[\"total_level\"], bins=bins, labels=labels)\n",
    "\n",
    "# Filter for spellcasting classes\n",
    "selected_classes = [\"Bard\", \"Cleric\", \"Druid\", \"Sorcerer\", \"Warlock\", \"Wizard\"]\n",
    "df_filtered = df[df[\"class_starting\"].isin(selected_classes)]\n",
    "\n",
    "# Count classes by designated level ranges\n",
    "df_grouped = df_filtered.groupby([\"class_starting\", \"level_range\"], observed=True).size().reset_index(name=\"count\")\n",
    "\n",
    "# Convert to percentages for readability\n",
    "df_total = df_grouped.groupby(\"level_range\")[\"count\"].sum().reset_index(name=\"total_count\")\n",
    "df_percent = df_grouped.merge(df_total, on=\"level_range\")\n",
    "df_percent[\"percentage\"] = (df_percent[\"count\"] / df_percent[\"total_count\"]) * 100\n",
    "\n",
    "# Make colors same as offical D&D character sheet themes\n",
    "class_colors = {\n",
    "    \"Bard\": \"#AB6DAC\",\n",
    "    \"Cleric\": \"#91A1B2\",\n",
    "    \"Druid\": \"#7A853B\",\n",
    "    \"Sorcerer\": \"#992E2E\",\n",
    "    \"Warlock\": \"#7B469B\",\n",
    "    \"Wizard\": \"#2A50A1\"\n",
    "}\n",
    "\n",
    "# Create interactive Plotly grouped bar chart\n",
    "fig = px.bar(\n",
    "    df_percent,\n",
    "    x=\"level_range\",\n",
    "    y=\"percentage\",\n",
    "    color=\"class_starting\",\n",
    "    text=\"percentage\",\n",
    "    title=\"Class Popularity Across Level Ranges\",\n",
    "    labels={\"level_range\": \"Level Range\", \"percentage\": \"Percent of Players (%)\", \"class_starting\": \"Class\"},\n",
    "    barmode=\"group\",\n",
    "    color_discrete_map=class_colors\n",
    ")\n",
    "\n",
    "# Modify layout\n",
    "fig.update_traces(texttemplate='%{text:.1f}%', textposition='outside')\n",
    "fig.update_layout(\n",
    "    xaxis_title=\"Level Range\",\n",
    "    yaxis_title=\"Percentage of Players\",\n",
    "    # Rotate x-axis labels for better readability\n",
    "    xaxis_tickangle=-45,  \n",
    "    height=600, width=1000,\n",
    "    legend_title=\"Class\"\n",
    ")\n",
    "\n",
    "# Show chart\n",
    "fig.show()\n"
   ]
  },
  {
   "cell_type": "code",
   "execution_count": 1,
   "metadata": {},
   "outputs": [
    {
     "data": {
      "application/vnd.plotly.v1+json": {
       "config": {
        "plotlyServerURL": "https://plot.ly"
       },
       "data": [
        {
         "hoverinfo": "text",
         "marker": {
          "color": "#91A1B2"
         },
         "name": "Cleric - Dwarf",
         "r": [
          21967
         ],
         "showlegend": false,
         "text": "Cleric (21967)",
         "theta": [
          0
         ],
         "type": "barpolar",
         "width": [
          54
         ]
        },
        {
         "hoverinfo": "text",
         "marker": {
          "color": "#91A1B2"
         },
         "name": "Cleric - Elf",
         "r": [
          10667
         ],
         "showlegend": false,
         "text": "Cleric (10667)",
         "theta": [
          60
         ],
         "type": "barpolar",
         "width": [
          54
         ]
        },
        {
         "hoverinfo": "text",
         "marker": {
          "color": "#7A853B"
         },
         "name": "Druid - Elf",
         "r": [
          23268
         ],
         "showlegend": false,
         "text": "Druid (23268)",
         "theta": [
          60
         ],
         "type": "barpolar",
         "width": [
          54
         ]
        },
        {
         "hoverinfo": "text",
         "marker": {
          "color": "#2A50A1"
         },
         "name": "Wizard - Elf",
         "r": [
          28762
         ],
         "showlegend": false,
         "text": "Wizard (28762)",
         "theta": [
          60
         ],
         "type": "barpolar",
         "width": [
          54
         ]
        },
        {
         "hoverinfo": "text",
         "marker": {
          "color": "#2A50A1"
         },
         "name": "Wizard - Gnome",
         "r": [
          13211
         ],
         "showlegend": false,
         "text": "Wizard (13211)",
         "theta": [
          120
         ],
         "type": "barpolar",
         "width": [
          54
         ]
        },
        {
         "hoverinfo": "text",
         "marker": {
          "color": "#7A853B"
         },
         "name": "Druid - Half-Elf",
         "r": [
          6733
         ],
         "showlegend": false,
         "text": "Druid (6733)",
         "theta": [
          180
         ],
         "type": "barpolar",
         "width": [
          54
         ]
        },
        {
         "hoverinfo": "text",
         "marker": {
          "color": "#992E2E"
         },
         "name": "Sorcerer - Half-Elf",
         "r": [
          13511
         ],
         "showlegend": false,
         "text": "Sorcerer (13511)",
         "theta": [
          180
         ],
         "type": "barpolar",
         "width": [
          54
         ]
        },
        {
         "hoverinfo": "text",
         "marker": {
          "color": "#7B469B"
         },
         "name": "Warlock - Half-Elf",
         "r": [
          13702
         ],
         "showlegend": false,
         "text": "Warlock (13702)",
         "theta": [
          180
         ],
         "type": "barpolar",
         "width": [
          54
         ]
        },
        {
         "hoverinfo": "text",
         "marker": {
          "color": "#AB6DAC"
         },
         "name": "Bard - Half-Elf",
         "r": [
          20077
         ],
         "showlegend": false,
         "text": "Bard (20077)",
         "theta": [
          180
         ],
         "type": "barpolar",
         "width": [
          54
         ]
        },
        {
         "hoverinfo": "text",
         "marker": {
          "color": "#7A853B"
         },
         "name": "Druid - Human",
         "r": [
          10471
         ],
         "showlegend": false,
         "text": "Druid (10471)",
         "theta": [
          240
         ],
         "type": "barpolar",
         "width": [
          54
         ]
        },
        {
         "hoverinfo": "text",
         "marker": {
          "color": "#992E2E"
         },
         "name": "Sorcerer - Human",
         "r": [
          13178
         ],
         "showlegend": false,
         "text": "Sorcerer (13178)",
         "theta": [
          240
         ],
         "type": "barpolar",
         "width": [
          54
         ]
        },
        {
         "hoverinfo": "text",
         "marker": {
          "color": "#AB6DAC"
         },
         "name": "Bard - Human",
         "r": [
          15055
         ],
         "showlegend": false,
         "text": "Bard (15055)",
         "theta": [
          240
         ],
         "type": "barpolar",
         "width": [
          54
         ]
        },
        {
         "hoverinfo": "text",
         "marker": {
          "color": "#7B469B"
         },
         "name": "Warlock - Human",
         "r": [
          15363
         ],
         "showlegend": false,
         "text": "Warlock (15363)",
         "theta": [
          240
         ],
         "type": "barpolar",
         "width": [
          54
         ]
        },
        {
         "hoverinfo": "text",
         "marker": {
          "color": "#91A1B2"
         },
         "name": "Cleric - Human",
         "r": [
          24076
         ],
         "showlegend": false,
         "text": "Cleric (24076)",
         "theta": [
          240
         ],
         "type": "barpolar",
         "width": [
          54
         ]
        },
        {
         "hoverinfo": "text",
         "marker": {
          "color": "#2A50A1"
         },
         "name": "Wizard - Human",
         "r": [
          24681
         ],
         "showlegend": false,
         "text": "Wizard (24681)",
         "theta": [
          240
         ],
         "type": "barpolar",
         "width": [
          54
         ]
        },
        {
         "hoverinfo": "text",
         "marker": {
          "color": "#AB6DAC"
         },
         "name": "Bard - Tiefling",
         "r": [
          9947
         ],
         "showlegend": false,
         "text": "Bard (9947)",
         "theta": [
          300
         ],
         "type": "barpolar",
         "width": [
          54
         ]
        },
        {
         "hoverinfo": "text",
         "marker": {
          "color": "#992E2E"
         },
         "name": "Sorcerer - Tiefling",
         "r": [
          12508
         ],
         "showlegend": false,
         "text": "Sorcerer (12508)",
         "theta": [
          300
         ],
         "type": "barpolar",
         "width": [
          54
         ]
        },
        {
         "hoverinfo": "text",
         "marker": {
          "color": "#7B469B"
         },
         "name": "Warlock - Tiefling",
         "r": [
          22984
         ],
         "showlegend": false,
         "text": "Warlock (22984)",
         "theta": [
          300
         ],
         "type": "barpolar",
         "width": [
          54
         ]
        },
        {
         "hoverinfo": "skip",
         "marker": {
          "color": "#AB6DAC"
         },
         "name": "Bard",
         "r": [
          0
         ],
         "theta": [
          0
         ],
         "type": "barpolar"
        },
        {
         "hoverinfo": "skip",
         "marker": {
          "color": "#91A1B2"
         },
         "name": "Cleric",
         "r": [
          0
         ],
         "theta": [
          0
         ],
         "type": "barpolar"
        },
        {
         "hoverinfo": "skip",
         "marker": {
          "color": "#7A853B"
         },
         "name": "Druid",
         "r": [
          0
         ],
         "theta": [
          0
         ],
         "type": "barpolar"
        },
        {
         "hoverinfo": "skip",
         "marker": {
          "color": "#992E2E"
         },
         "name": "Sorcerer",
         "r": [
          0
         ],
         "theta": [
          0
         ],
         "type": "barpolar"
        },
        {
         "hoverinfo": "skip",
         "marker": {
          "color": "#7B469B"
         },
         "name": "Warlock",
         "r": [
          0
         ],
         "theta": [
          0
         ],
         "type": "barpolar"
        },
        {
         "hoverinfo": "skip",
         "marker": {
          "color": "#2A50A1"
         },
         "name": "Wizard",
         "r": [
          0
         ],
         "theta": [
          0
         ],
         "type": "barpolar"
        }
       ],
       "layout": {
        "height": 800,
        "margin": {
         "b": 80,
         "l": 120,
         "r": 120,
         "t": 80
        },
        "polar": {
         "angularaxis": {
          "showticklabels": true,
          "tickmode": "array",
          "ticktext": [
           "Dwarf",
           "Elf",
           "Gnome",
           "Half-Elf",
           "Human",
           "Tiefling"
          ],
          "tickvals": [
           0,
           60,
           120,
           180,
           240,
           300
          ]
         },
         "radialaxis": {
          "showticklabels": true,
          "tickfont": {
           "size": 12
          }
         }
        },
        "showlegend": true,
        "template": {
         "data": {
          "bar": [
           {
            "error_x": {
             "color": "#2a3f5f"
            },
            "error_y": {
             "color": "#2a3f5f"
            },
            "marker": {
             "line": {
              "color": "#E5ECF6",
              "width": 0.5
             },
             "pattern": {
              "fillmode": "overlay",
              "size": 10,
              "solidity": 0.2
             }
            },
            "type": "bar"
           }
          ],
          "barpolar": [
           {
            "marker": {
             "line": {
              "color": "#E5ECF6",
              "width": 0.5
             },
             "pattern": {
              "fillmode": "overlay",
              "size": 10,
              "solidity": 0.2
             }
            },
            "type": "barpolar"
           }
          ],
          "carpet": [
           {
            "aaxis": {
             "endlinecolor": "#2a3f5f",
             "gridcolor": "white",
             "linecolor": "white",
             "minorgridcolor": "white",
             "startlinecolor": "#2a3f5f"
            },
            "baxis": {
             "endlinecolor": "#2a3f5f",
             "gridcolor": "white",
             "linecolor": "white",
             "minorgridcolor": "white",
             "startlinecolor": "#2a3f5f"
            },
            "type": "carpet"
           }
          ],
          "choropleth": [
           {
            "colorbar": {
             "outlinewidth": 0,
             "ticks": ""
            },
            "type": "choropleth"
           }
          ],
          "contour": [
           {
            "colorbar": {
             "outlinewidth": 0,
             "ticks": ""
            },
            "colorscale": [
             [
              0,
              "#0d0887"
             ],
             [
              0.1111111111111111,
              "#46039f"
             ],
             [
              0.2222222222222222,
              "#7201a8"
             ],
             [
              0.3333333333333333,
              "#9c179e"
             ],
             [
              0.4444444444444444,
              "#bd3786"
             ],
             [
              0.5555555555555556,
              "#d8576b"
             ],
             [
              0.6666666666666666,
              "#ed7953"
             ],
             [
              0.7777777777777778,
              "#fb9f3a"
             ],
             [
              0.8888888888888888,
              "#fdca26"
             ],
             [
              1,
              "#f0f921"
             ]
            ],
            "type": "contour"
           }
          ],
          "contourcarpet": [
           {
            "colorbar": {
             "outlinewidth": 0,
             "ticks": ""
            },
            "type": "contourcarpet"
           }
          ],
          "heatmap": [
           {
            "colorbar": {
             "outlinewidth": 0,
             "ticks": ""
            },
            "colorscale": [
             [
              0,
              "#0d0887"
             ],
             [
              0.1111111111111111,
              "#46039f"
             ],
             [
              0.2222222222222222,
              "#7201a8"
             ],
             [
              0.3333333333333333,
              "#9c179e"
             ],
             [
              0.4444444444444444,
              "#bd3786"
             ],
             [
              0.5555555555555556,
              "#d8576b"
             ],
             [
              0.6666666666666666,
              "#ed7953"
             ],
             [
              0.7777777777777778,
              "#fb9f3a"
             ],
             [
              0.8888888888888888,
              "#fdca26"
             ],
             [
              1,
              "#f0f921"
             ]
            ],
            "type": "heatmap"
           }
          ],
          "histogram": [
           {
            "marker": {
             "pattern": {
              "fillmode": "overlay",
              "size": 10,
              "solidity": 0.2
             }
            },
            "type": "histogram"
           }
          ],
          "histogram2d": [
           {
            "colorbar": {
             "outlinewidth": 0,
             "ticks": ""
            },
            "colorscale": [
             [
              0,
              "#0d0887"
             ],
             [
              0.1111111111111111,
              "#46039f"
             ],
             [
              0.2222222222222222,
              "#7201a8"
             ],
             [
              0.3333333333333333,
              "#9c179e"
             ],
             [
              0.4444444444444444,
              "#bd3786"
             ],
             [
              0.5555555555555556,
              "#d8576b"
             ],
             [
              0.6666666666666666,
              "#ed7953"
             ],
             [
              0.7777777777777778,
              "#fb9f3a"
             ],
             [
              0.8888888888888888,
              "#fdca26"
             ],
             [
              1,
              "#f0f921"
             ]
            ],
            "type": "histogram2d"
           }
          ],
          "histogram2dcontour": [
           {
            "colorbar": {
             "outlinewidth": 0,
             "ticks": ""
            },
            "colorscale": [
             [
              0,
              "#0d0887"
             ],
             [
              0.1111111111111111,
              "#46039f"
             ],
             [
              0.2222222222222222,
              "#7201a8"
             ],
             [
              0.3333333333333333,
              "#9c179e"
             ],
             [
              0.4444444444444444,
              "#bd3786"
             ],
             [
              0.5555555555555556,
              "#d8576b"
             ],
             [
              0.6666666666666666,
              "#ed7953"
             ],
             [
              0.7777777777777778,
              "#fb9f3a"
             ],
             [
              0.8888888888888888,
              "#fdca26"
             ],
             [
              1,
              "#f0f921"
             ]
            ],
            "type": "histogram2dcontour"
           }
          ],
          "mesh3d": [
           {
            "colorbar": {
             "outlinewidth": 0,
             "ticks": ""
            },
            "type": "mesh3d"
           }
          ],
          "parcoords": [
           {
            "line": {
             "colorbar": {
              "outlinewidth": 0,
              "ticks": ""
             }
            },
            "type": "parcoords"
           }
          ],
          "pie": [
           {
            "automargin": true,
            "type": "pie"
           }
          ],
          "scatter": [
           {
            "fillpattern": {
             "fillmode": "overlay",
             "size": 10,
             "solidity": 0.2
            },
            "type": "scatter"
           }
          ],
          "scatter3d": [
           {
            "line": {
             "colorbar": {
              "outlinewidth": 0,
              "ticks": ""
             }
            },
            "marker": {
             "colorbar": {
              "outlinewidth": 0,
              "ticks": ""
             }
            },
            "type": "scatter3d"
           }
          ],
          "scattercarpet": [
           {
            "marker": {
             "colorbar": {
              "outlinewidth": 0,
              "ticks": ""
             }
            },
            "type": "scattercarpet"
           }
          ],
          "scattergeo": [
           {
            "marker": {
             "colorbar": {
              "outlinewidth": 0,
              "ticks": ""
             }
            },
            "type": "scattergeo"
           }
          ],
          "scattergl": [
           {
            "marker": {
             "colorbar": {
              "outlinewidth": 0,
              "ticks": ""
             }
            },
            "type": "scattergl"
           }
          ],
          "scattermap": [
           {
            "marker": {
             "colorbar": {
              "outlinewidth": 0,
              "ticks": ""
             }
            },
            "type": "scattermap"
           }
          ],
          "scattermapbox": [
           {
            "marker": {
             "colorbar": {
              "outlinewidth": 0,
              "ticks": ""
             }
            },
            "type": "scattermapbox"
           }
          ],
          "scatterpolar": [
           {
            "marker": {
             "colorbar": {
              "outlinewidth": 0,
              "ticks": ""
             }
            },
            "type": "scatterpolar"
           }
          ],
          "scatterpolargl": [
           {
            "marker": {
             "colorbar": {
              "outlinewidth": 0,
              "ticks": ""
             }
            },
            "type": "scatterpolargl"
           }
          ],
          "scatterternary": [
           {
            "marker": {
             "colorbar": {
              "outlinewidth": 0,
              "ticks": ""
             }
            },
            "type": "scatterternary"
           }
          ],
          "surface": [
           {
            "colorbar": {
             "outlinewidth": 0,
             "ticks": ""
            },
            "colorscale": [
             [
              0,
              "#0d0887"
             ],
             [
              0.1111111111111111,
              "#46039f"
             ],
             [
              0.2222222222222222,
              "#7201a8"
             ],
             [
              0.3333333333333333,
              "#9c179e"
             ],
             [
              0.4444444444444444,
              "#bd3786"
             ],
             [
              0.5555555555555556,
              "#d8576b"
             ],
             [
              0.6666666666666666,
              "#ed7953"
             ],
             [
              0.7777777777777778,
              "#fb9f3a"
             ],
             [
              0.8888888888888888,
              "#fdca26"
             ],
             [
              1,
              "#f0f921"
             ]
            ],
            "type": "surface"
           }
          ],
          "table": [
           {
            "cells": {
             "fill": {
              "color": "#EBF0F8"
             },
             "line": {
              "color": "white"
             }
            },
            "header": {
             "fill": {
              "color": "#C8D4E3"
             },
             "line": {
              "color": "white"
             }
            },
            "type": "table"
           }
          ]
         },
         "layout": {
          "annotationdefaults": {
           "arrowcolor": "#2a3f5f",
           "arrowhead": 0,
           "arrowwidth": 1
          },
          "autotypenumbers": "strict",
          "coloraxis": {
           "colorbar": {
            "outlinewidth": 0,
            "ticks": ""
           }
          },
          "colorscale": {
           "diverging": [
            [
             0,
             "#8e0152"
            ],
            [
             0.1,
             "#c51b7d"
            ],
            [
             0.2,
             "#de77ae"
            ],
            [
             0.3,
             "#f1b6da"
            ],
            [
             0.4,
             "#fde0ef"
            ],
            [
             0.5,
             "#f7f7f7"
            ],
            [
             0.6,
             "#e6f5d0"
            ],
            [
             0.7,
             "#b8e186"
            ],
            [
             0.8,
             "#7fbc41"
            ],
            [
             0.9,
             "#4d9221"
            ],
            [
             1,
             "#276419"
            ]
           ],
           "sequential": [
            [
             0,
             "#0d0887"
            ],
            [
             0.1111111111111111,
             "#46039f"
            ],
            [
             0.2222222222222222,
             "#7201a8"
            ],
            [
             0.3333333333333333,
             "#9c179e"
            ],
            [
             0.4444444444444444,
             "#bd3786"
            ],
            [
             0.5555555555555556,
             "#d8576b"
            ],
            [
             0.6666666666666666,
             "#ed7953"
            ],
            [
             0.7777777777777778,
             "#fb9f3a"
            ],
            [
             0.8888888888888888,
             "#fdca26"
            ],
            [
             1,
             "#f0f921"
            ]
           ],
           "sequentialminus": [
            [
             0,
             "#0d0887"
            ],
            [
             0.1111111111111111,
             "#46039f"
            ],
            [
             0.2222222222222222,
             "#7201a8"
            ],
            [
             0.3333333333333333,
             "#9c179e"
            ],
            [
             0.4444444444444444,
             "#bd3786"
            ],
            [
             0.5555555555555556,
             "#d8576b"
            ],
            [
             0.6666666666666666,
             "#ed7953"
            ],
            [
             0.7777777777777778,
             "#fb9f3a"
            ],
            [
             0.8888888888888888,
             "#fdca26"
            ],
            [
             1,
             "#f0f921"
            ]
           ]
          },
          "colorway": [
           "#636efa",
           "#EF553B",
           "#00cc96",
           "#ab63fa",
           "#FFA15A",
           "#19d3f3",
           "#FF6692",
           "#B6E880",
           "#FF97FF",
           "#FECB52"
          ],
          "font": {
           "color": "#2a3f5f"
          },
          "geo": {
           "bgcolor": "white",
           "lakecolor": "white",
           "landcolor": "#E5ECF6",
           "showlakes": true,
           "showland": true,
           "subunitcolor": "white"
          },
          "hoverlabel": {
           "align": "left"
          },
          "hovermode": "closest",
          "mapbox": {
           "style": "light"
          },
          "paper_bgcolor": "white",
          "plot_bgcolor": "#E5ECF6",
          "polar": {
           "angularaxis": {
            "gridcolor": "white",
            "linecolor": "white",
            "ticks": ""
           },
           "bgcolor": "#E5ECF6",
           "radialaxis": {
            "gridcolor": "white",
            "linecolor": "white",
            "ticks": ""
           }
          },
          "scene": {
           "xaxis": {
            "backgroundcolor": "#E5ECF6",
            "gridcolor": "white",
            "gridwidth": 2,
            "linecolor": "white",
            "showbackground": true,
            "ticks": "",
            "zerolinecolor": "white"
           },
           "yaxis": {
            "backgroundcolor": "#E5ECF6",
            "gridcolor": "white",
            "gridwidth": 2,
            "linecolor": "white",
            "showbackground": true,
            "ticks": "",
            "zerolinecolor": "white"
           },
           "zaxis": {
            "backgroundcolor": "#E5ECF6",
            "gridcolor": "white",
            "gridwidth": 2,
            "linecolor": "white",
            "showbackground": true,
            "ticks": "",
            "zerolinecolor": "white"
           }
          },
          "shapedefaults": {
           "line": {
            "color": "#2a3f5f"
           }
          },
          "ternary": {
           "aaxis": {
            "gridcolor": "white",
            "linecolor": "white",
            "ticks": ""
           },
           "baxis": {
            "gridcolor": "white",
            "linecolor": "white",
            "ticks": ""
           },
           "bgcolor": "#E5ECF6",
           "caxis": {
            "gridcolor": "white",
            "linecolor": "white",
            "ticks": ""
           }
          },
          "title": {
           "x": 0.05
          },
          "xaxis": {
           "automargin": true,
           "gridcolor": "white",
           "linecolor": "white",
           "ticks": "",
           "title": {
            "standoff": 15
           },
           "zerolinecolor": "white",
           "zerolinewidth": 2
          },
          "yaxis": {
           "automargin": true,
           "gridcolor": "white",
           "linecolor": "white",
           "ticks": "",
           "title": {
            "standoff": 15
           },
           "zerolinecolor": "white",
           "zerolinewidth": 2
          }
         }
        },
        "title": {
         "text": "Top 3 Races for Each Class (Interactive Radial Chart)"
        },
        "width": 800
       }
      }
     },
     "metadata": {},
     "output_type": "display_data"
    }
   ],
   "source": [
    "import pandas as pd\n",
    "import plotly.graph_objects as go\n",
    "import numpy as np\n",
    "\n",
    "# Load dataset\n",
    "zip_path = \"over_one_mil_chars.zip\"\n",
    "df = pd.read_csv(zip_path, usecols=[\"class_starting\", \"race\"])\n",
    "\n",
    "# Keep only six spellcasting classes\n",
    "selected_classes = [\"Bard\", \"Cleric\", \"Druid\", \"Sorcerer\", \"Warlock\", \"Wizard\"]\n",
    "df_filtered = df[df[\"class_starting\"].isin(selected_classes)]\n",
    "\n",
    "# Count number of each race per class\n",
    "df_counts = df_filtered.groupby([\"class_starting\", \"race\"]).size().reset_index(name=\"count\")\n",
    "\n",
    "# Rank races for each class; keep only top 3\n",
    "df_counts[\"ranks\"] = df_counts.groupby(\"class_starting\")[\"count\"].rank(method=\"dense\", ascending=False)\n",
    "df_top_races = df_counts[df_counts[\"ranks\"] <= 3]\n",
    "\n",
    "# Get unique classes and sorted races\n",
    "unique_classes = sorted(df_top_races[\"class_starting\"].unique())\n",
    "sorted_races = sorted(df_top_races[\"race\"].unique())  \n",
    "\n",
    "# Map from race to angles (evenly spaced around circle)\n",
    "race_to_angle = {race: angle for race, angle in zip(sorted_races, np.linspace(0, 360, len(sorted_races), endpoint=False))}\n",
    "\n",
    "# Make colors same as offical D&D character sheet themes\n",
    "class_colors = {\n",
    "    \"Bard\": \"#AB6DAC\",\n",
    "    \"Cleric\": \"#91A1B2\",\n",
    "    \"Druid\": \"#7A853B\",\n",
    "    \"Sorcerer\": \"#992E2E\",\n",
    "    \"Warlock\": \"#7B469B\",\n",
    "    \"Wizard\": \"#2A50A1\"\n",
    "}\n",
    "\n",
    "# Ensure largest count per race is plotted first\n",
    "df_sorted = df_top_races.sort_values([\"race\", \"count\"], ascending=[False, True])\n",
    "\n",
    "# Create figure\n",
    "fig = go.Figure()\n",
    "\n",
    "# Loop through each race and add bars for each class\n",
    "for race in sorted_races:\n",
    "    race_data = df_sorted[df_sorted[\"race\"] == race]\n",
    "\n",
    "    for _, row in race_data.iterrows():\n",
    "        cls = row[\"class_starting\"]\n",
    "        angle = race_to_angle[race]\n",
    "        count = row[\"count\"]\n",
    "\n",
    "        # Add a radial bar for each class-race pair\n",
    "        fig.add_trace(go.Barpolar(\n",
    "            r=[count],\n",
    "            # Position around the circle\n",
    "            theta=[angle],  \n",
    "            # Adjust width of the bars\n",
    "            width=[360 / len(sorted_races) * 0.9],  \n",
    "            marker_color=class_colors[cls],\n",
    "            name=f\"{cls} - {race}\",\n",
    "            hoverinfo=\"text\",\n",
    "            text=f\"{cls} ({count})\",\n",
    "            # Hide from legend\n",
    "            showlegend=False  \n",
    "        ))\n",
    "        \n",
    "# Make it so that the legend is only the 6 classes and not the 18 different \n",
    "# combinations of class and race\n",
    "for cls in unique_classes:\n",
    "    fig.add_trace(go.Barpolar(\n",
    "        # Invisible bar\n",
    "        r=[0], theta=[0],  \n",
    "        marker_color=class_colors[cls],\n",
    "        # Only the class name appears in the legend\n",
    "        name=cls,  \n",
    "        hoverinfo=\"skip\",\n",
    "    ))\n",
    "\n",
    "# Modify layout\n",
    "fig.update_layout(\n",
    "    title=\"Top 3 Races for Each Class (Interactive Radial Chart)\",\n",
    "    polar=dict(\n",
    "        radialaxis=dict(showticklabels=True, tickfont_size=12),\n",
    "        angularaxis=dict(showticklabels=True, tickmode=\"array\", tickvals=list(race_to_angle.values()), ticktext=sorted_races)\n",
    "    ),\n",
    "    showlegend=True,\n",
    "    margin=dict(l=120, r=120, t=80, b=80),\n",
    "    height=800, width=800\n",
    ")\n",
    "\n",
    "# Show chart\n",
    "fig.show()\n"
   ]
  },
  {
   "cell_type": "code",
   "execution_count": 35,
   "metadata": {},
   "outputs": [
    {
     "data": {
      "application/vnd.plotly.v1+json": {
       "config": {
        "plotlyServerURL": "https://plot.ly"
       },
       "data": [
        {
         "hovertemplate": "Class=%{x}<br>Average Note Length=%{y}<br>text=%{text}<extra></extra>",
         "legendgroup": "Bard",
         "marker": {
          "color": "#AB6DAC",
          "line": {
           "color": "black",
           "width": 2
          },
          "size": 15,
          "symbol": "circle"
         },
         "mode": "markers+text",
         "name": "Bard",
         "orientation": "v",
         "showlegend": true,
         "text": {
          "bdata": "mpmZmZkthUA=",
          "dtype": "f8"
         },
         "textposition": "top center",
         "type": "scatter",
         "x": [
          "Bard"
         ],
         "xaxis": "x",
         "y": {
          "bdata": "yz+kEnsthUA=",
          "dtype": "f8"
         },
         "yaxis": "y"
        },
        {
         "hovertemplate": "Class=%{x}<br>Average Note Length=%{y}<br>text=%{text}<extra></extra>",
         "legendgroup": "Cleric",
         "marker": {
          "color": "#91A1B2",
          "line": {
           "color": "black",
           "width": 2
          },
          "size": 15,
          "symbol": "circle"
         },
         "mode": "markers+text",
         "name": "Cleric",
         "orientation": "v",
         "showlegend": true,
         "text": {
          "bdata": "zczMzMysgkA=",
          "dtype": "f8"
         },
         "textposition": "top center",
         "type": "scatter",
         "x": [
          "Cleric"
         ],
         "xaxis": "x",
         "y": {
          "bdata": "XMmxnPWsgkA=",
          "dtype": "f8"
         },
         "yaxis": "y"
        },
        {
         "hovertemplate": "Class=%{x}<br>Average Note Length=%{y}<br>text=%{text}<extra></extra>",
         "legendgroup": "Druid",
         "marker": {
          "color": "#7A853B",
          "line": {
           "color": "black",
           "width": 2
          },
          "size": 15,
          "symbol": "circle"
         },
         "mode": "markers+text",
         "name": "Druid",
         "orientation": "v",
         "showlegend": true,
         "text": {
          "bdata": "AAAAAADIg0A=",
          "dtype": "f8"
         },
         "textposition": "top center",
         "type": "scatter",
         "x": [
          "Druid"
         ],
         "xaxis": "x",
         "y": {
          "bdata": "xXUIQmLIg0A=",
          "dtype": "f8"
         },
         "yaxis": "y"
        },
        {
         "hovertemplate": "Class=%{x}<br>Average Note Length=%{y}<br>text=%{text}<extra></extra>",
         "legendgroup": "Sorcerer",
         "marker": {
          "color": "#992E2E",
          "line": {
           "color": "black",
           "width": 2
          },
          "size": 15,
          "symbol": "circle"
         },
         "mode": "markers+text",
         "name": "Sorcerer",
         "orientation": "v",
         "showlegend": true,
         "text": {
          "bdata": "MzMzMzOfg0A=",
          "dtype": "f8"
         },
         "textposition": "top center",
         "type": "scatter",
         "x": [
          "Sorcerer"
         ],
         "xaxis": "x",
         "y": {
          "bdata": "oanKTl+fg0A=",
          "dtype": "f8"
         },
         "yaxis": "y"
        },
        {
         "hovertemplate": "Class=%{x}<br>Average Note Length=%{y}<br>text=%{text}<extra></extra>",
         "legendgroup": "Warlock",
         "marker": {
          "color": "#7B469B",
          "line": {
           "color": "black",
           "width": 2
          },
          "size": 15,
          "symbol": "circle"
         },
         "mode": "markers+text",
         "name": "Warlock",
         "orientation": "v",
         "showlegend": true,
         "text": {
          "bdata": "mpmZmZmthkA=",
          "dtype": "f8"
         },
         "textposition": "top center",
         "type": "scatter",
         "x": [
          "Warlock"
         ],
         "xaxis": "x",
         "y": {
          "bdata": "my/79L6thkA=",
          "dtype": "f8"
         },
         "yaxis": "y"
        },
        {
         "hovertemplate": "Class=%{x}<br>Average Note Length=%{y}<br>text=%{text}<extra></extra>",
         "legendgroup": "Wizard",
         "marker": {
          "color": "#2A50A1",
          "line": {
           "color": "black",
           "width": 2
          },
          "size": 15,
          "symbol": "circle"
         },
         "mode": "markers+text",
         "name": "Wizard",
         "orientation": "v",
         "showlegend": true,
         "text": {
          "bdata": "mpmZmZlxgkA=",
          "dtype": "f8"
         },
         "textposition": "top center",
         "type": "scatter",
         "x": [
          "Wizard"
         ],
         "xaxis": "x",
         "y": {
          "bdata": "pcxO0zlxgkA=",
          "dtype": "f8"
         },
         "yaxis": "y"
        }
       ],
       "layout": {
        "height": 600,
        "legend": {
         "title": {
          "text": "Class"
         },
         "tracegroupgap": 0
        },
        "shapes": [
         {
          "line": {
           "color": "gray",
           "width": 2
          },
          "type": "line",
          "x0": "Bard",
          "x1": "Bard",
          "y0": 0,
          "y1": 677.6850941497772
         },
         {
          "line": {
           "color": "gray",
           "width": 2
          },
          "type": "line",
          "x0": "Cleric",
          "x1": "Cleric",
          "y0": 0,
          "y1": 597.6199277772498
         },
         {
          "line": {
           "color": "gray",
           "width": 2
          },
          "type": "line",
          "x0": "Druid",
          "x1": "Druid",
          "y0": 0,
          "y1": 633.047977510542
         },
         {
          "line": {
           "color": "gray",
           "width": 2
          },
          "type": "line",
          "x0": "Sorcerer",
          "x1": "Sorcerer",
          "y0": 0,
          "y1": 627.9215370018975
         },
         {
          "line": {
           "color": "gray",
           "width": 2
          },
          "type": "line",
          "x0": "Warlock",
          "x1": "Warlock",
          "y0": 0,
          "y1": 725.7182407020476
         },
         {
          "line": {
           "color": "gray",
           "width": 2
          },
          "type": "line",
          "x0": "Wizard",
          "x1": "Wizard",
          "y0": 0,
          "y1": 590.1532350689127
         }
        ],
        "showlegend": false,
        "template": {
         "data": {
          "bar": [
           {
            "error_x": {
             "color": "#2a3f5f"
            },
            "error_y": {
             "color": "#2a3f5f"
            },
            "marker": {
             "line": {
              "color": "#E5ECF6",
              "width": 0.5
             },
             "pattern": {
              "fillmode": "overlay",
              "size": 10,
              "solidity": 0.2
             }
            },
            "type": "bar"
           }
          ],
          "barpolar": [
           {
            "marker": {
             "line": {
              "color": "#E5ECF6",
              "width": 0.5
             },
             "pattern": {
              "fillmode": "overlay",
              "size": 10,
              "solidity": 0.2
             }
            },
            "type": "barpolar"
           }
          ],
          "carpet": [
           {
            "aaxis": {
             "endlinecolor": "#2a3f5f",
             "gridcolor": "white",
             "linecolor": "white",
             "minorgridcolor": "white",
             "startlinecolor": "#2a3f5f"
            },
            "baxis": {
             "endlinecolor": "#2a3f5f",
             "gridcolor": "white",
             "linecolor": "white",
             "minorgridcolor": "white",
             "startlinecolor": "#2a3f5f"
            },
            "type": "carpet"
           }
          ],
          "choropleth": [
           {
            "colorbar": {
             "outlinewidth": 0,
             "ticks": ""
            },
            "type": "choropleth"
           }
          ],
          "contour": [
           {
            "colorbar": {
             "outlinewidth": 0,
             "ticks": ""
            },
            "colorscale": [
             [
              0,
              "#0d0887"
             ],
             [
              0.1111111111111111,
              "#46039f"
             ],
             [
              0.2222222222222222,
              "#7201a8"
             ],
             [
              0.3333333333333333,
              "#9c179e"
             ],
             [
              0.4444444444444444,
              "#bd3786"
             ],
             [
              0.5555555555555556,
              "#d8576b"
             ],
             [
              0.6666666666666666,
              "#ed7953"
             ],
             [
              0.7777777777777778,
              "#fb9f3a"
             ],
             [
              0.8888888888888888,
              "#fdca26"
             ],
             [
              1,
              "#f0f921"
             ]
            ],
            "type": "contour"
           }
          ],
          "contourcarpet": [
           {
            "colorbar": {
             "outlinewidth": 0,
             "ticks": ""
            },
            "type": "contourcarpet"
           }
          ],
          "heatmap": [
           {
            "colorbar": {
             "outlinewidth": 0,
             "ticks": ""
            },
            "colorscale": [
             [
              0,
              "#0d0887"
             ],
             [
              0.1111111111111111,
              "#46039f"
             ],
             [
              0.2222222222222222,
              "#7201a8"
             ],
             [
              0.3333333333333333,
              "#9c179e"
             ],
             [
              0.4444444444444444,
              "#bd3786"
             ],
             [
              0.5555555555555556,
              "#d8576b"
             ],
             [
              0.6666666666666666,
              "#ed7953"
             ],
             [
              0.7777777777777778,
              "#fb9f3a"
             ],
             [
              0.8888888888888888,
              "#fdca26"
             ],
             [
              1,
              "#f0f921"
             ]
            ],
            "type": "heatmap"
           }
          ],
          "histogram": [
           {
            "marker": {
             "pattern": {
              "fillmode": "overlay",
              "size": 10,
              "solidity": 0.2
             }
            },
            "type": "histogram"
           }
          ],
          "histogram2d": [
           {
            "colorbar": {
             "outlinewidth": 0,
             "ticks": ""
            },
            "colorscale": [
             [
              0,
              "#0d0887"
             ],
             [
              0.1111111111111111,
              "#46039f"
             ],
             [
              0.2222222222222222,
              "#7201a8"
             ],
             [
              0.3333333333333333,
              "#9c179e"
             ],
             [
              0.4444444444444444,
              "#bd3786"
             ],
             [
              0.5555555555555556,
              "#d8576b"
             ],
             [
              0.6666666666666666,
              "#ed7953"
             ],
             [
              0.7777777777777778,
              "#fb9f3a"
             ],
             [
              0.8888888888888888,
              "#fdca26"
             ],
             [
              1,
              "#f0f921"
             ]
            ],
            "type": "histogram2d"
           }
          ],
          "histogram2dcontour": [
           {
            "colorbar": {
             "outlinewidth": 0,
             "ticks": ""
            },
            "colorscale": [
             [
              0,
              "#0d0887"
             ],
             [
              0.1111111111111111,
              "#46039f"
             ],
             [
              0.2222222222222222,
              "#7201a8"
             ],
             [
              0.3333333333333333,
              "#9c179e"
             ],
             [
              0.4444444444444444,
              "#bd3786"
             ],
             [
              0.5555555555555556,
              "#d8576b"
             ],
             [
              0.6666666666666666,
              "#ed7953"
             ],
             [
              0.7777777777777778,
              "#fb9f3a"
             ],
             [
              0.8888888888888888,
              "#fdca26"
             ],
             [
              1,
              "#f0f921"
             ]
            ],
            "type": "histogram2dcontour"
           }
          ],
          "mesh3d": [
           {
            "colorbar": {
             "outlinewidth": 0,
             "ticks": ""
            },
            "type": "mesh3d"
           }
          ],
          "parcoords": [
           {
            "line": {
             "colorbar": {
              "outlinewidth": 0,
              "ticks": ""
             }
            },
            "type": "parcoords"
           }
          ],
          "pie": [
           {
            "automargin": true,
            "type": "pie"
           }
          ],
          "scatter": [
           {
            "fillpattern": {
             "fillmode": "overlay",
             "size": 10,
             "solidity": 0.2
            },
            "type": "scatter"
           }
          ],
          "scatter3d": [
           {
            "line": {
             "colorbar": {
              "outlinewidth": 0,
              "ticks": ""
             }
            },
            "marker": {
             "colorbar": {
              "outlinewidth": 0,
              "ticks": ""
             }
            },
            "type": "scatter3d"
           }
          ],
          "scattercarpet": [
           {
            "marker": {
             "colorbar": {
              "outlinewidth": 0,
              "ticks": ""
             }
            },
            "type": "scattercarpet"
           }
          ],
          "scattergeo": [
           {
            "marker": {
             "colorbar": {
              "outlinewidth": 0,
              "ticks": ""
             }
            },
            "type": "scattergeo"
           }
          ],
          "scattergl": [
           {
            "marker": {
             "colorbar": {
              "outlinewidth": 0,
              "ticks": ""
             }
            },
            "type": "scattergl"
           }
          ],
          "scattermap": [
           {
            "marker": {
             "colorbar": {
              "outlinewidth": 0,
              "ticks": ""
             }
            },
            "type": "scattermap"
           }
          ],
          "scattermapbox": [
           {
            "marker": {
             "colorbar": {
              "outlinewidth": 0,
              "ticks": ""
             }
            },
            "type": "scattermapbox"
           }
          ],
          "scatterpolar": [
           {
            "marker": {
             "colorbar": {
              "outlinewidth": 0,
              "ticks": ""
             }
            },
            "type": "scatterpolar"
           }
          ],
          "scatterpolargl": [
           {
            "marker": {
             "colorbar": {
              "outlinewidth": 0,
              "ticks": ""
             }
            },
            "type": "scatterpolargl"
           }
          ],
          "scatterternary": [
           {
            "marker": {
             "colorbar": {
              "outlinewidth": 0,
              "ticks": ""
             }
            },
            "type": "scatterternary"
           }
          ],
          "surface": [
           {
            "colorbar": {
             "outlinewidth": 0,
             "ticks": ""
            },
            "colorscale": [
             [
              0,
              "#0d0887"
             ],
             [
              0.1111111111111111,
              "#46039f"
             ],
             [
              0.2222222222222222,
              "#7201a8"
             ],
             [
              0.3333333333333333,
              "#9c179e"
             ],
             [
              0.4444444444444444,
              "#bd3786"
             ],
             [
              0.5555555555555556,
              "#d8576b"
             ],
             [
              0.6666666666666666,
              "#ed7953"
             ],
             [
              0.7777777777777778,
              "#fb9f3a"
             ],
             [
              0.8888888888888888,
              "#fdca26"
             ],
             [
              1,
              "#f0f921"
             ]
            ],
            "type": "surface"
           }
          ],
          "table": [
           {
            "cells": {
             "fill": {
              "color": "#EBF0F8"
             },
             "line": {
              "color": "white"
             }
            },
            "header": {
             "fill": {
              "color": "#C8D4E3"
             },
             "line": {
              "color": "white"
             }
            },
            "type": "table"
           }
          ]
         },
         "layout": {
          "annotationdefaults": {
           "arrowcolor": "#2a3f5f",
           "arrowhead": 0,
           "arrowwidth": 1
          },
          "autotypenumbers": "strict",
          "coloraxis": {
           "colorbar": {
            "outlinewidth": 0,
            "ticks": ""
           }
          },
          "colorscale": {
           "diverging": [
            [
             0,
             "#8e0152"
            ],
            [
             0.1,
             "#c51b7d"
            ],
            [
             0.2,
             "#de77ae"
            ],
            [
             0.3,
             "#f1b6da"
            ],
            [
             0.4,
             "#fde0ef"
            ],
            [
             0.5,
             "#f7f7f7"
            ],
            [
             0.6,
             "#e6f5d0"
            ],
            [
             0.7,
             "#b8e186"
            ],
            [
             0.8,
             "#7fbc41"
            ],
            [
             0.9,
             "#4d9221"
            ],
            [
             1,
             "#276419"
            ]
           ],
           "sequential": [
            [
             0,
             "#0d0887"
            ],
            [
             0.1111111111111111,
             "#46039f"
            ],
            [
             0.2222222222222222,
             "#7201a8"
            ],
            [
             0.3333333333333333,
             "#9c179e"
            ],
            [
             0.4444444444444444,
             "#bd3786"
            ],
            [
             0.5555555555555556,
             "#d8576b"
            ],
            [
             0.6666666666666666,
             "#ed7953"
            ],
            [
             0.7777777777777778,
             "#fb9f3a"
            ],
            [
             0.8888888888888888,
             "#fdca26"
            ],
            [
             1,
             "#f0f921"
            ]
           ],
           "sequentialminus": [
            [
             0,
             "#0d0887"
            ],
            [
             0.1111111111111111,
             "#46039f"
            ],
            [
             0.2222222222222222,
             "#7201a8"
            ],
            [
             0.3333333333333333,
             "#9c179e"
            ],
            [
             0.4444444444444444,
             "#bd3786"
            ],
            [
             0.5555555555555556,
             "#d8576b"
            ],
            [
             0.6666666666666666,
             "#ed7953"
            ],
            [
             0.7777777777777778,
             "#fb9f3a"
            ],
            [
             0.8888888888888888,
             "#fdca26"
            ],
            [
             1,
             "#f0f921"
            ]
           ]
          },
          "colorway": [
           "#636efa",
           "#EF553B",
           "#00cc96",
           "#ab63fa",
           "#FFA15A",
           "#19d3f3",
           "#FF6692",
           "#B6E880",
           "#FF97FF",
           "#FECB52"
          ],
          "font": {
           "color": "#2a3f5f"
          },
          "geo": {
           "bgcolor": "white",
           "lakecolor": "white",
           "landcolor": "#E5ECF6",
           "showlakes": true,
           "showland": true,
           "subunitcolor": "white"
          },
          "hoverlabel": {
           "align": "left"
          },
          "hovermode": "closest",
          "mapbox": {
           "style": "light"
          },
          "paper_bgcolor": "white",
          "plot_bgcolor": "#E5ECF6",
          "polar": {
           "angularaxis": {
            "gridcolor": "white",
            "linecolor": "white",
            "ticks": ""
           },
           "bgcolor": "#E5ECF6",
           "radialaxis": {
            "gridcolor": "white",
            "linecolor": "white",
            "ticks": ""
           }
          },
          "scene": {
           "xaxis": {
            "backgroundcolor": "#E5ECF6",
            "gridcolor": "white",
            "gridwidth": 2,
            "linecolor": "white",
            "showbackground": true,
            "ticks": "",
            "zerolinecolor": "white"
           },
           "yaxis": {
            "backgroundcolor": "#E5ECF6",
            "gridcolor": "white",
            "gridwidth": 2,
            "linecolor": "white",
            "showbackground": true,
            "ticks": "",
            "zerolinecolor": "white"
           },
           "zaxis": {
            "backgroundcolor": "#E5ECF6",
            "gridcolor": "white",
            "gridwidth": 2,
            "linecolor": "white",
            "showbackground": true,
            "ticks": "",
            "zerolinecolor": "white"
           }
          },
          "shapedefaults": {
           "line": {
            "color": "#2a3f5f"
           }
          },
          "ternary": {
           "aaxis": {
            "gridcolor": "white",
            "linecolor": "white",
            "ticks": ""
           },
           "baxis": {
            "gridcolor": "white",
            "linecolor": "white",
            "ticks": ""
           },
           "bgcolor": "#E5ECF6",
           "caxis": {
            "gridcolor": "white",
            "linecolor": "white",
            "ticks": ""
           }
          },
          "title": {
           "x": 0.05
          },
          "xaxis": {
           "automargin": true,
           "gridcolor": "white",
           "linecolor": "white",
           "ticks": "",
           "title": {
            "standoff": 15
           },
           "zerolinecolor": "white",
           "zerolinewidth": 2
          },
          "yaxis": {
           "automargin": true,
           "gridcolor": "white",
           "linecolor": "white",
           "ticks": "",
           "title": {
            "standoff": 15
           },
           "zerolinecolor": "white",
           "zerolinewidth": 2
          }
         }
        },
        "title": {
         "text": "Average Note Length per Spellcasting Class"
        },
        "width": 700,
        "xaxis": {
         "anchor": "y",
         "categoryarray": [
          "Bard",
          "Cleric",
          "Druid",
          "Sorcerer",
          "Warlock",
          "Wizard"
         ],
         "categoryorder": "array",
         "domain": [
          0,
          1
         ],
         "tickangle": -25,
         "title": {
          "text": "Class"
         }
        },
        "yaxis": {
         "anchor": "x",
         "domain": [
          0,
          1
         ],
         "title": {
          "text": "Average Note Length"
         }
        }
       }
      }
     },
     "metadata": {},
     "output_type": "display_data"
    }
   ],
   "source": [
    "import plotly.express as px\n",
    "\n",
    "# Load dataset\n",
    "zip_path = \"over_one_mil_chars.zip\"\n",
    "df = pd.read_csv(zip_path, usecols=[\"class_starting\", \"notes_len\"])\n",
    "\n",
    "# Filter for only six spellcasting classes\n",
    "selected_classes = [\"Bard\", \"Cleric\", \"Druid\", \"Sorcerer\", \"Warlock\", \"Wizard\"]\n",
    "df_filtered = df[df[\"class_starting\"].isin(selected_classes)]\n",
    "\n",
    "# Remove entries where 'notes_len' is 0\n",
    "df_filt_nonzero = df_filtered[df_filtered[\"notes_len\"] > 0]\n",
    "\n",
    "# Calculate average note length per class\n",
    "avg_note_length_per_class = df_filt_nonzero.groupby(\"class_starting\")[\"notes_len\"].mean().reset_index()\n",
    "\n",
    "# Define colors for each class (consistent with prior figures)\n",
    "class_colors = {\n",
    "    \"Bard\": \"#AB6DAC\",\n",
    "    \"Cleric\": \"#91A1B2\",\n",
    "    \"Druid\": \"#7A853B\",\n",
    "    \"Sorcerer\": \"#992E2E\",\n",
    "    \"Warlock\": \"#7B469B\",\n",
    "    \"Wizard\": \"#2A50A1\"\n",
    "}\n",
    "\n",
    "# Create interactive lollipop chart\n",
    "# Learning I could make a chart of lollipops was amazing\n",
    "fig = px.scatter(\n",
    "    avg_note_length_per_class,\n",
    "    x=\"class_starting\",\n",
    "    y=\"notes_len\",\n",
    "    text=avg_note_length_per_class[\"notes_len\"].round(1),\n",
    "    color=\"class_starting\",\n",
    "    color_discrete_map=class_colors,\n",
    "    title=\"Average Note Length per Spellcasting Class\",\n",
    "    labels={\"class_starting\": \"Class\", \"notes_len\": \"Average Note Length\"},\n",
    ")\n",
    "\n",
    "# Add sticks for lollipop effect\n",
    "for i, row in avg_note_length_per_class.iterrows():\n",
    "    fig.add_shape(\n",
    "        type=\"line\",\n",
    "        x0=row[\"class_starting\"], x1=row[\"class_starting\"],\n",
    "        y0=0, y1=row[\"notes_len\"],\n",
    "        line=dict(color=\"gray\", width=2),\n",
    "    )\n",
    "\n",
    "# Modify layout for readability\n",
    "fig.update_traces(marker=dict(size=15, line=dict(width=2, color=\"black\")), textposition=\"top center\")\n",
    "fig.update_layout(\n",
    "    xaxis_title=\"Class\",\n",
    "    yaxis_title=\"Average Note Length\",\n",
    "    xaxis_tickangle=-25,\n",
    "    height=600, width=700,\n",
    "    showlegend=False\n",
    ")\n",
    "\n",
    "# Show chart\n",
    "fig.show()\n"
   ]
  },
  {
   "cell_type": "code",
   "execution_count": 40,
   "metadata": {},
   "outputs": [
    {
     "data": {
      "application/vnd.plotly.v1+json": {
       "config": {
        "plotlyServerURL": "https://plot.ly"
       },
       "data": [
        {
         "hoverinfo": "text",
         "marker": {
          "color": "#91A1B2"
         },
         "name": "Cleric - Acolyte",
         "r": [
          33069
         ],
         "showlegend": false,
         "text": "Cleric (33069)",
         "theta": [
          0
         ],
         "type": "barpolar",
         "width": [
          40.5
         ]
        },
        {
         "hoverinfo": "text",
         "marker": {
          "color": "#7B469B"
         },
         "name": "Warlock - Criminal / Spy",
         "r": [
          7385
         ],
         "showlegend": false,
         "text": "Warlock (7385)",
         "theta": [
          45
         ],
         "type": "barpolar",
         "width": [
          40.5
         ]
        },
        {
         "hoverinfo": "text",
         "marker": {
          "color": "#AB6DAC"
         },
         "name": "Bard - Criminal / Spy",
         "r": [
          10347
         ],
         "showlegend": false,
         "text": "Bard (10347)",
         "theta": [
          45
         ],
         "type": "barpolar",
         "width": [
          40.5
         ]
        },
        {
         "hoverinfo": "text",
         "marker": {
          "color": "#AB6DAC"
         },
         "name": "Bard - Entertainer",
         "r": [
          12256
         ],
         "showlegend": false,
         "text": "Bard (12256)",
         "theta": [
          90
         ],
         "type": "barpolar",
         "width": [
          40.5
         ]
        },
        {
         "hoverinfo": "text",
         "marker": {
          "color": "#7A853B"
         },
         "name": "Druid - Folk Hero",
         "r": [
          8584
         ],
         "showlegend": false,
         "text": "Druid (8584)",
         "theta": [
          135
         ],
         "type": "barpolar",
         "width": [
          40.5
         ]
        },
        {
         "hoverinfo": "text",
         "marker": {
          "color": "#AB6DAC"
         },
         "name": "Bard - Folk Hero",
         "r": [
          10991
         ],
         "showlegend": false,
         "text": "Bard (10991)",
         "theta": [
          135
         ],
         "type": "barpolar",
         "width": [
          40.5
         ]
        },
        {
         "hoverinfo": "text",
         "marker": {
          "color": "#2A50A1"
         },
         "name": "Wizard - Haunted One",
         "r": [
          5055
         ],
         "showlegend": false,
         "text": "Wizard (5055)",
         "theta": [
          180
         ],
         "type": "barpolar",
         "width": [
          40.5
         ]
        },
        {
         "hoverinfo": "text",
         "marker": {
          "color": "#7A853B"
         },
         "name": "Druid - Haunted One",
         "r": [
          5983
         ],
         "showlegend": false,
         "text": "Druid (5983)",
         "theta": [
          180
         ],
         "type": "barpolar",
         "width": [
          40.5
         ]
        },
        {
         "hoverinfo": "text",
         "marker": {
          "color": "#992E2E"
         },
         "name": "Sorcerer - Haunted One",
         "r": [
          7908
         ],
         "showlegend": false,
         "text": "Sorcerer (7908)",
         "theta": [
          180
         ],
         "type": "barpolar",
         "width": [
          40.5
         ]
        },
        {
         "hoverinfo": "text",
         "marker": {
          "color": "#7B469B"
         },
         "name": "Warlock - Haunted One",
         "r": [
          12587
         ],
         "showlegend": false,
         "text": "Warlock (12587)",
         "theta": [
          180
         ],
         "type": "barpolar",
         "width": [
          40.5
         ]
        },
        {
         "hoverinfo": "text",
         "marker": {
          "color": "#992E2E"
         },
         "name": "Sorcerer - Noble",
         "r": [
          7760
         ],
         "showlegend": false,
         "text": "Sorcerer (7760)",
         "theta": [
          225
         ],
         "type": "barpolar",
         "width": [
          40.5
         ]
        },
        {
         "hoverinfo": "text",
         "marker": {
          "color": "#2A50A1"
         },
         "name": "Wizard - Noble",
         "r": [
          8041
         ],
         "showlegend": false,
         "text": "Wizard (8041)",
         "theta": [
          225
         ],
         "type": "barpolar",
         "width": [
          40.5
         ]
        },
        {
         "hoverinfo": "text",
         "marker": {
          "color": "#91A1B2"
         },
         "name": "Cleric - Sage",
         "r": [
          7609
         ],
         "showlegend": false,
         "text": "Cleric (7609)",
         "theta": [
          270
         ],
         "type": "barpolar",
         "width": [
          40.5
         ]
        },
        {
         "hoverinfo": "text",
         "marker": {
          "color": "#7B469B"
         },
         "name": "Warlock - Sage",
         "r": [
          15321
         ],
         "showlegend": false,
         "text": "Warlock (15321)",
         "theta": [
          270
         ],
         "type": "barpolar",
         "width": [
          40.5
         ]
        },
        {
         "hoverinfo": "text",
         "marker": {
          "color": "#7A853B"
         },
         "name": "Druid - Sage",
         "r": [
          17022
         ],
         "showlegend": false,
         "text": "Druid (17022)",
         "theta": [
          270
         ],
         "type": "barpolar",
         "width": [
          40.5
         ]
        },
        {
         "hoverinfo": "text",
         "marker": {
          "color": "#992E2E"
         },
         "name": "Sorcerer - Sage",
         "r": [
          18083
         ],
         "showlegend": false,
         "text": "Sorcerer (18083)",
         "theta": [
          270
         ],
         "type": "barpolar",
         "width": [
          40.5
         ]
        },
        {
         "hoverinfo": "text",
         "marker": {
          "color": "#2A50A1"
         },
         "name": "Wizard - Sage",
         "r": [
          39146
         ],
         "showlegend": false,
         "text": "Wizard (39146)",
         "theta": [
          270
         ],
         "type": "barpolar",
         "width": [
          40.5
         ]
        },
        {
         "hoverinfo": "text",
         "marker": {
          "color": "#91A1B2"
         },
         "name": "Cleric - Soldier",
         "r": [
          6732
         ],
         "showlegend": false,
         "text": "Cleric (6732)",
         "theta": [
          315
         ],
         "type": "barpolar",
         "width": [
          40.5
         ]
        },
        {
         "hoverinfo": "skip",
         "marker": {
          "color": "#1f77b4"
         },
         "name": "Bard",
         "r": [
          0
         ],
         "theta": [
          0
         ],
         "type": "barpolar"
        },
        {
         "hoverinfo": "skip",
         "marker": {
          "color": "#ff7f0e"
         },
         "name": "Cleric",
         "r": [
          0
         ],
         "theta": [
          0
         ],
         "type": "barpolar"
        },
        {
         "hoverinfo": "skip",
         "marker": {
          "color": "#2ca02c"
         },
         "name": "Druid",
         "r": [
          0
         ],
         "theta": [
          0
         ],
         "type": "barpolar"
        },
        {
         "hoverinfo": "skip",
         "marker": {
          "color": "#d62728"
         },
         "name": "Sorcerer",
         "r": [
          0
         ],
         "theta": [
          0
         ],
         "type": "barpolar"
        },
        {
         "hoverinfo": "skip",
         "marker": {
          "color": "#9467bd"
         },
         "name": "Warlock",
         "r": [
          0
         ],
         "theta": [
          0
         ],
         "type": "barpolar"
        },
        {
         "hoverinfo": "skip",
         "marker": {
          "color": "#8c564b"
         },
         "name": "Wizard",
         "r": [
          0
         ],
         "theta": [
          0
         ],
         "type": "barpolar"
        }
       ],
       "layout": {
        "height": 800,
        "polar": {
         "angularaxis": {
          "showticklabels": true,
          "tickmode": "array",
          "ticktext": [
           "Acolyte",
           "Criminal / Spy",
           "Entertainer",
           "Folk Hero",
           "Haunted One",
           "Noble",
           "Sage",
           "Soldier"
          ],
          "tickvals": [
           0,
           45,
           90,
           135,
           180,
           225,
           270,
           315
          ]
         },
         "radialaxis": {
          "showticklabels": true,
          "tickfont": {
           "size": 12
          }
         }
        },
        "showlegend": true,
        "template": {
         "data": {
          "bar": [
           {
            "error_x": {
             "color": "#2a3f5f"
            },
            "error_y": {
             "color": "#2a3f5f"
            },
            "marker": {
             "line": {
              "color": "#E5ECF6",
              "width": 0.5
             },
             "pattern": {
              "fillmode": "overlay",
              "size": 10,
              "solidity": 0.2
             }
            },
            "type": "bar"
           }
          ],
          "barpolar": [
           {
            "marker": {
             "line": {
              "color": "#E5ECF6",
              "width": 0.5
             },
             "pattern": {
              "fillmode": "overlay",
              "size": 10,
              "solidity": 0.2
             }
            },
            "type": "barpolar"
           }
          ],
          "carpet": [
           {
            "aaxis": {
             "endlinecolor": "#2a3f5f",
             "gridcolor": "white",
             "linecolor": "white",
             "minorgridcolor": "white",
             "startlinecolor": "#2a3f5f"
            },
            "baxis": {
             "endlinecolor": "#2a3f5f",
             "gridcolor": "white",
             "linecolor": "white",
             "minorgridcolor": "white",
             "startlinecolor": "#2a3f5f"
            },
            "type": "carpet"
           }
          ],
          "choropleth": [
           {
            "colorbar": {
             "outlinewidth": 0,
             "ticks": ""
            },
            "type": "choropleth"
           }
          ],
          "contour": [
           {
            "colorbar": {
             "outlinewidth": 0,
             "ticks": ""
            },
            "colorscale": [
             [
              0,
              "#0d0887"
             ],
             [
              0.1111111111111111,
              "#46039f"
             ],
             [
              0.2222222222222222,
              "#7201a8"
             ],
             [
              0.3333333333333333,
              "#9c179e"
             ],
             [
              0.4444444444444444,
              "#bd3786"
             ],
             [
              0.5555555555555556,
              "#d8576b"
             ],
             [
              0.6666666666666666,
              "#ed7953"
             ],
             [
              0.7777777777777778,
              "#fb9f3a"
             ],
             [
              0.8888888888888888,
              "#fdca26"
             ],
             [
              1,
              "#f0f921"
             ]
            ],
            "type": "contour"
           }
          ],
          "contourcarpet": [
           {
            "colorbar": {
             "outlinewidth": 0,
             "ticks": ""
            },
            "type": "contourcarpet"
           }
          ],
          "heatmap": [
           {
            "colorbar": {
             "outlinewidth": 0,
             "ticks": ""
            },
            "colorscale": [
             [
              0,
              "#0d0887"
             ],
             [
              0.1111111111111111,
              "#46039f"
             ],
             [
              0.2222222222222222,
              "#7201a8"
             ],
             [
              0.3333333333333333,
              "#9c179e"
             ],
             [
              0.4444444444444444,
              "#bd3786"
             ],
             [
              0.5555555555555556,
              "#d8576b"
             ],
             [
              0.6666666666666666,
              "#ed7953"
             ],
             [
              0.7777777777777778,
              "#fb9f3a"
             ],
             [
              0.8888888888888888,
              "#fdca26"
             ],
             [
              1,
              "#f0f921"
             ]
            ],
            "type": "heatmap"
           }
          ],
          "histogram": [
           {
            "marker": {
             "pattern": {
              "fillmode": "overlay",
              "size": 10,
              "solidity": 0.2
             }
            },
            "type": "histogram"
           }
          ],
          "histogram2d": [
           {
            "colorbar": {
             "outlinewidth": 0,
             "ticks": ""
            },
            "colorscale": [
             [
              0,
              "#0d0887"
             ],
             [
              0.1111111111111111,
              "#46039f"
             ],
             [
              0.2222222222222222,
              "#7201a8"
             ],
             [
              0.3333333333333333,
              "#9c179e"
             ],
             [
              0.4444444444444444,
              "#bd3786"
             ],
             [
              0.5555555555555556,
              "#d8576b"
             ],
             [
              0.6666666666666666,
              "#ed7953"
             ],
             [
              0.7777777777777778,
              "#fb9f3a"
             ],
             [
              0.8888888888888888,
              "#fdca26"
             ],
             [
              1,
              "#f0f921"
             ]
            ],
            "type": "histogram2d"
           }
          ],
          "histogram2dcontour": [
           {
            "colorbar": {
             "outlinewidth": 0,
             "ticks": ""
            },
            "colorscale": [
             [
              0,
              "#0d0887"
             ],
             [
              0.1111111111111111,
              "#46039f"
             ],
             [
              0.2222222222222222,
              "#7201a8"
             ],
             [
              0.3333333333333333,
              "#9c179e"
             ],
             [
              0.4444444444444444,
              "#bd3786"
             ],
             [
              0.5555555555555556,
              "#d8576b"
             ],
             [
              0.6666666666666666,
              "#ed7953"
             ],
             [
              0.7777777777777778,
              "#fb9f3a"
             ],
             [
              0.8888888888888888,
              "#fdca26"
             ],
             [
              1,
              "#f0f921"
             ]
            ],
            "type": "histogram2dcontour"
           }
          ],
          "mesh3d": [
           {
            "colorbar": {
             "outlinewidth": 0,
             "ticks": ""
            },
            "type": "mesh3d"
           }
          ],
          "parcoords": [
           {
            "line": {
             "colorbar": {
              "outlinewidth": 0,
              "ticks": ""
             }
            },
            "type": "parcoords"
           }
          ],
          "pie": [
           {
            "automargin": true,
            "type": "pie"
           }
          ],
          "scatter": [
           {
            "fillpattern": {
             "fillmode": "overlay",
             "size": 10,
             "solidity": 0.2
            },
            "type": "scatter"
           }
          ],
          "scatter3d": [
           {
            "line": {
             "colorbar": {
              "outlinewidth": 0,
              "ticks": ""
             }
            },
            "marker": {
             "colorbar": {
              "outlinewidth": 0,
              "ticks": ""
             }
            },
            "type": "scatter3d"
           }
          ],
          "scattercarpet": [
           {
            "marker": {
             "colorbar": {
              "outlinewidth": 0,
              "ticks": ""
             }
            },
            "type": "scattercarpet"
           }
          ],
          "scattergeo": [
           {
            "marker": {
             "colorbar": {
              "outlinewidth": 0,
              "ticks": ""
             }
            },
            "type": "scattergeo"
           }
          ],
          "scattergl": [
           {
            "marker": {
             "colorbar": {
              "outlinewidth": 0,
              "ticks": ""
             }
            },
            "type": "scattergl"
           }
          ],
          "scattermap": [
           {
            "marker": {
             "colorbar": {
              "outlinewidth": 0,
              "ticks": ""
             }
            },
            "type": "scattermap"
           }
          ],
          "scattermapbox": [
           {
            "marker": {
             "colorbar": {
              "outlinewidth": 0,
              "ticks": ""
             }
            },
            "type": "scattermapbox"
           }
          ],
          "scatterpolar": [
           {
            "marker": {
             "colorbar": {
              "outlinewidth": 0,
              "ticks": ""
             }
            },
            "type": "scatterpolar"
           }
          ],
          "scatterpolargl": [
           {
            "marker": {
             "colorbar": {
              "outlinewidth": 0,
              "ticks": ""
             }
            },
            "type": "scatterpolargl"
           }
          ],
          "scatterternary": [
           {
            "marker": {
             "colorbar": {
              "outlinewidth": 0,
              "ticks": ""
             }
            },
            "type": "scatterternary"
           }
          ],
          "surface": [
           {
            "colorbar": {
             "outlinewidth": 0,
             "ticks": ""
            },
            "colorscale": [
             [
              0,
              "#0d0887"
             ],
             [
              0.1111111111111111,
              "#46039f"
             ],
             [
              0.2222222222222222,
              "#7201a8"
             ],
             [
              0.3333333333333333,
              "#9c179e"
             ],
             [
              0.4444444444444444,
              "#bd3786"
             ],
             [
              0.5555555555555556,
              "#d8576b"
             ],
             [
              0.6666666666666666,
              "#ed7953"
             ],
             [
              0.7777777777777778,
              "#fb9f3a"
             ],
             [
              0.8888888888888888,
              "#fdca26"
             ],
             [
              1,
              "#f0f921"
             ]
            ],
            "type": "surface"
           }
          ],
          "table": [
           {
            "cells": {
             "fill": {
              "color": "#EBF0F8"
             },
             "line": {
              "color": "white"
             }
            },
            "header": {
             "fill": {
              "color": "#C8D4E3"
             },
             "line": {
              "color": "white"
             }
            },
            "type": "table"
           }
          ]
         },
         "layout": {
          "annotationdefaults": {
           "arrowcolor": "#2a3f5f",
           "arrowhead": 0,
           "arrowwidth": 1
          },
          "autotypenumbers": "strict",
          "coloraxis": {
           "colorbar": {
            "outlinewidth": 0,
            "ticks": ""
           }
          },
          "colorscale": {
           "diverging": [
            [
             0,
             "#8e0152"
            ],
            [
             0.1,
             "#c51b7d"
            ],
            [
             0.2,
             "#de77ae"
            ],
            [
             0.3,
             "#f1b6da"
            ],
            [
             0.4,
             "#fde0ef"
            ],
            [
             0.5,
             "#f7f7f7"
            ],
            [
             0.6,
             "#e6f5d0"
            ],
            [
             0.7,
             "#b8e186"
            ],
            [
             0.8,
             "#7fbc41"
            ],
            [
             0.9,
             "#4d9221"
            ],
            [
             1,
             "#276419"
            ]
           ],
           "sequential": [
            [
             0,
             "#0d0887"
            ],
            [
             0.1111111111111111,
             "#46039f"
            ],
            [
             0.2222222222222222,
             "#7201a8"
            ],
            [
             0.3333333333333333,
             "#9c179e"
            ],
            [
             0.4444444444444444,
             "#bd3786"
            ],
            [
             0.5555555555555556,
             "#d8576b"
            ],
            [
             0.6666666666666666,
             "#ed7953"
            ],
            [
             0.7777777777777778,
             "#fb9f3a"
            ],
            [
             0.8888888888888888,
             "#fdca26"
            ],
            [
             1,
             "#f0f921"
            ]
           ],
           "sequentialminus": [
            [
             0,
             "#0d0887"
            ],
            [
             0.1111111111111111,
             "#46039f"
            ],
            [
             0.2222222222222222,
             "#7201a8"
            ],
            [
             0.3333333333333333,
             "#9c179e"
            ],
            [
             0.4444444444444444,
             "#bd3786"
            ],
            [
             0.5555555555555556,
             "#d8576b"
            ],
            [
             0.6666666666666666,
             "#ed7953"
            ],
            [
             0.7777777777777778,
             "#fb9f3a"
            ],
            [
             0.8888888888888888,
             "#fdca26"
            ],
            [
             1,
             "#f0f921"
            ]
           ]
          },
          "colorway": [
           "#636efa",
           "#EF553B",
           "#00cc96",
           "#ab63fa",
           "#FFA15A",
           "#19d3f3",
           "#FF6692",
           "#B6E880",
           "#FF97FF",
           "#FECB52"
          ],
          "font": {
           "color": "#2a3f5f"
          },
          "geo": {
           "bgcolor": "white",
           "lakecolor": "white",
           "landcolor": "#E5ECF6",
           "showlakes": true,
           "showland": true,
           "subunitcolor": "white"
          },
          "hoverlabel": {
           "align": "left"
          },
          "hovermode": "closest",
          "mapbox": {
           "style": "light"
          },
          "paper_bgcolor": "white",
          "plot_bgcolor": "#E5ECF6",
          "polar": {
           "angularaxis": {
            "gridcolor": "white",
            "linecolor": "white",
            "ticks": ""
           },
           "bgcolor": "#E5ECF6",
           "radialaxis": {
            "gridcolor": "white",
            "linecolor": "white",
            "ticks": ""
           }
          },
          "scene": {
           "xaxis": {
            "backgroundcolor": "#E5ECF6",
            "gridcolor": "white",
            "gridwidth": 2,
            "linecolor": "white",
            "showbackground": true,
            "ticks": "",
            "zerolinecolor": "white"
           },
           "yaxis": {
            "backgroundcolor": "#E5ECF6",
            "gridcolor": "white",
            "gridwidth": 2,
            "linecolor": "white",
            "showbackground": true,
            "ticks": "",
            "zerolinecolor": "white"
           },
           "zaxis": {
            "backgroundcolor": "#E5ECF6",
            "gridcolor": "white",
            "gridwidth": 2,
            "linecolor": "white",
            "showbackground": true,
            "ticks": "",
            "zerolinecolor": "white"
           }
          },
          "shapedefaults": {
           "line": {
            "color": "#2a3f5f"
           }
          },
          "ternary": {
           "aaxis": {
            "gridcolor": "white",
            "linecolor": "white",
            "ticks": ""
           },
           "baxis": {
            "gridcolor": "white",
            "linecolor": "white",
            "ticks": ""
           },
           "bgcolor": "#E5ECF6",
           "caxis": {
            "gridcolor": "white",
            "linecolor": "white",
            "ticks": ""
           }
          },
          "title": {
           "x": 0.05
          },
          "xaxis": {
           "automargin": true,
           "gridcolor": "white",
           "linecolor": "white",
           "ticks": "",
           "title": {
            "standoff": 15
           },
           "zerolinecolor": "white",
           "zerolinewidth": 2
          },
          "yaxis": {
           "automargin": true,
           "gridcolor": "white",
           "linecolor": "white",
           "ticks": "",
           "title": {
            "standoff": 15
           },
           "zerolinecolor": "white",
           "zerolinewidth": 2
          }
         }
        },
        "title": {
         "text": "Top 3 Backgrounds for Each Class (Interactive Radial Chart)"
        },
        "width": 800
       }
      }
     },
     "metadata": {},
     "output_type": "display_data"
    }
   ],
   "source": [
    "import pandas as pd\n",
    "import plotly.graph_objects as go\n",
    "import numpy as np\n",
    "\n",
    "# Load dataset\n",
    "zip_path = \"over_one_mil_chars.zip\"\n",
    "df = pd.read_csv(zip_path, usecols=[\"class_starting\", \"background\"])\n",
    "\n",
    "# Keep only six spellcasting classes\n",
    "selected_classes = [\"Bard\", \"Cleric\", \"Druid\", \"Sorcerer\", \"Warlock\", \"Wizard\"]\n",
    "df_filtered = df[df[\"class_starting\"].isin(selected_classes)]\n",
    "\n",
    "# Count number of each background per class\n",
    "df_counts = df_filtered.groupby([\"class_starting\", \"background\"]).size().reset_index(name=\"count\")\n",
    "\n",
    "# Rank backgrounds for each class; keep only top 3\n",
    "df_counts[\"ranks\"] = df_counts.groupby(\"class_starting\")[\"count\"].rank(method=\"dense\", ascending=False)\n",
    "df_top_backgrounds = df_counts[df_counts[\"ranks\"] <= 3]\n",
    "\n",
    "# Get unique classes and sorted backgrounds\n",
    "unique_classes = sorted(df_top_backgrounds[\"class_starting\"].unique())\n",
    "sorted_backgrounds = sorted(df_top_backgrounds[\"background\"].unique())  \n",
    "\n",
    "# Map from background to angles (evenly spaced around circle)\n",
    "background_to_angle = {background: angle for background, angle in zip(sorted_backgrounds, np.linspace(0, 360, len(sorted_backgrounds), endpoint=False))}\n",
    "\n",
    "# Make colors same as offical D&D character sheet themes\n",
    "class_colors = {\n",
    "    \"Bard\": \"#AB6DAC\",\n",
    "    \"Cleric\": \"#91A1B2\",\n",
    "    \"Druid\": \"#7A853B\",\n",
    "    \"Sorcerer\": \"#992E2E\",\n",
    "    \"Warlock\": \"#7B469B\",\n",
    "    \"Wizard\": \"#2A50A1\"\n",
    "}\n",
    "\n",
    "# Ensure largest count per background is plotted first\n",
    "df_sorted = df_top_backgrounds.sort_values([\"background\", \"count\"], ascending=[False, True])\n",
    "\n",
    "# Create figure\n",
    "fig = go.Figure()\n",
    "\n",
    "# Loop through each background and add bars for each class\n",
    "for background in sorted_backgrounds:\n",
    "    background_data = df_sorted[df_sorted[\"background\"] == background]\n",
    "\n",
    "    for _, row in background_data.iterrows():\n",
    "        cls = row[\"class_starting\"]\n",
    "        angle = background_to_angle[background]\n",
    "        count = row[\"count\"]\n",
    "\n",
    "        # Add a radial bar for each class-background pair\n",
    "        fig.add_trace(go.Barpolar(\n",
    "            r=[count],\n",
    "            theta=[angle],  # Position around the circle\n",
    "            width=[360 / len(sorted_backgrounds) * 0.9],  # Adjust width of the bars\n",
    "            marker_color=class_colors[cls],\n",
    "            name=f\"{cls} - {background}\",\n",
    "            hoverinfo=\"text\",\n",
    "            text=f\"{cls} ({count})\",\n",
    "            showlegend=False  # Hide from legend\n",
    "        ))\n",
    "        \n",
    "# Make it so that the legend is only the 6 classes and not the 18 different \n",
    "# combinations of class and background\n",
    "for cls in unique_classes:\n",
    "    fig.add_trace(go.Barpolar(\n",
    "        r=[0], theta=[0],  \n",
    "        marker_color=class_color_map[cls],\n",
    "        name=cls,  # Only the class name appears in the legend\n",
    "        hoverinfo=\"skip\",\n",
    "    ))\n",
    "\n",
    "# Modify layout\n",
    "fig.update_layout(\n",
    "    title=\"Top 3 Backgrounds for Each Class (Interactive Radial Chart)\",\n",
    "    polar=dict(\n",
    "        radialaxis=dict(showticklabels=True, tickfont_size=12),\n",
    "        angularaxis=dict(showticklabels=True, tickmode=\"array\", tickvals=list(background_to_angle.values()), ticktext=sorted_backgrounds)\n",
    "    ),\n",
    "    showlegend=True,\n",
    "    height=800, width=800\n",
    ")\n",
    "\n",
    "# Show chart\n",
    "fig.show()\n"
   ]
  },
  {
   "cell_type": "code",
   "execution_count": 33,
   "metadata": {},
   "outputs": [
    {
     "data": {
      "application/vnd.plotly.v1+json": {
       "config": {
        "plotlyServerURL": "https://plot.ly"
       },
       "data": [
        {
         "alignmentgroup": "True",
         "customdata": [
          [
           "Vicious Mockery",
           "Bard"
          ],
          [
           "Healing Word",
           "Bard"
          ],
          [
           "Heat Metal",
           "Bard"
          ]
         ],
         "hovertemplate": "Class=%{customdata[1]}<br>Spell Level=%{x}<br>Spell Popularity=%{y}<br>Spell=%{customdata[0]}<extra></extra>",
         "legendgroup": "Bard",
         "marker": {
          "color": "#AB6DAC",
          "pattern": {
           "shape": ""
          }
         },
         "name": "Bard",
         "offsetgroup": "Bard",
         "orientation": "v",
         "showlegend": true,
         "text": [
          "Vicious Mockery",
          "Healing Word",
          "Heat Metal"
         ],
         "textposition": "auto",
         "type": "bar",
         "x": [
          "Level 0",
          "Level 1",
          "Level 2"
         ],
         "xaxis": "x",
         "y": {
          "bdata": "qgB4ACwA",
          "dtype": "i2"
         },
         "yaxis": "y"
        },
        {
         "alignmentgroup": "True",
         "customdata": [
          [
           "Sacred Flame",
           "Cleric"
          ],
          [
           "Cure Wounds",
           "Cleric"
          ],
          [
           "Spiritual Weapon",
           "Cleric"
          ]
         ],
         "hovertemplate": "Class=%{customdata[1]}<br>Spell Level=%{x}<br>Spell Popularity=%{y}<br>Spell=%{customdata[0]}<extra></extra>",
         "legendgroup": "Cleric",
         "marker": {
          "color": "#91A1B2",
          "pattern": {
           "shape": ""
          }
         },
         "name": "Cleric",
         "offsetgroup": "Cleric",
         "orientation": "v",
         "showlegend": true,
         "text": [
          "Sacred Flame",
          "Cure Wounds",
          "Spiritual Weapon"
         ],
         "textposition": "auto",
         "type": "bar",
         "x": [
          "Level 0",
          "Level 1",
          "Level 2"
         ],
         "xaxis": "x",
         "y": {
          "bdata": "ygBFAecA",
          "dtype": "i2"
         },
         "yaxis": "y"
        },
        {
         "alignmentgroup": "True",
         "customdata": [
          [
           "Shillelagh",
           "Druid"
          ],
          [
           "Cure Wounds",
           "Druid"
          ],
          [
           "Moonbeam",
           "Druid"
          ]
         ],
         "hovertemplate": "Class=%{customdata[1]}<br>Spell Level=%{x}<br>Spell Popularity=%{y}<br>Spell=%{customdata[0]}<extra></extra>",
         "legendgroup": "Druid",
         "marker": {
          "color": "#7A853B",
          "pattern": {
           "shape": ""
          }
         },
         "name": "Druid",
         "offsetgroup": "Druid",
         "orientation": "v",
         "showlegend": true,
         "text": [
          "Shillelagh",
          "Cure Wounds",
          "Moonbeam"
         ],
         "textposition": "auto",
         "type": "bar",
         "x": [
          "Level 0",
          "Level 1",
          "Level 2"
         ],
         "xaxis": "x",
         "y": {
          "bdata": "THQt",
          "dtype": "i1"
         },
         "yaxis": "y"
        },
        {
         "alignmentgroup": "True",
         "customdata": [
          [
           "Fire Bolt",
           "Sorcerer"
          ],
          [
           "Shield",
           "Sorcerer"
          ],
          [
           "Scorching Ray",
           "Sorcerer"
          ]
         ],
         "hovertemplate": "Class=%{customdata[1]}<br>Spell Level=%{x}<br>Spell Popularity=%{y}<br>Spell=%{customdata[0]}<extra></extra>",
         "legendgroup": "Sorcerer",
         "marker": {
          "color": "#992E2E",
          "pattern": {
           "shape": ""
          }
         },
         "name": "Sorcerer",
         "offsetgroup": "Sorcerer",
         "orientation": "v",
         "showlegend": true,
         "text": [
          "Fire Bolt",
          "Shield",
          "Scorching Ray"
         ],
         "textposition": "auto",
         "type": "bar",
         "x": [
          "Level 0",
          "Level 1",
          "Level 2"
         ],
         "xaxis": "x",
         "y": {
          "bdata": "eUkn",
          "dtype": "i1"
         },
         "yaxis": "y"
        },
        {
         "alignmentgroup": "True",
         "customdata": [
          [
           "Eldritch Blast",
           "Warlock"
          ],
          [
           "Hex",
           "Warlock"
          ],
          [
           "Misty Step",
           "Warlock"
          ]
         ],
         "hovertemplate": "Class=%{customdata[1]}<br>Spell Level=%{x}<br>Spell Popularity=%{y}<br>Spell=%{customdata[0]}<extra></extra>",
         "legendgroup": "Warlock",
         "marker": {
          "color": "#7B469B",
          "pattern": {
           "shape": ""
          }
         },
         "name": "Warlock",
         "offsetgroup": "Warlock",
         "orientation": "v",
         "showlegend": true,
         "text": [
          "Eldritch Blast",
          "Hex",
          "Misty Step"
         ],
         "textposition": "auto",
         "type": "bar",
         "x": [
          "Level 0",
          "Level 1",
          "Level 2"
         ],
         "xaxis": "x",
         "y": {
          "bdata": "tQBJACsA",
          "dtype": "i2"
         },
         "yaxis": "y"
        },
        {
         "alignmentgroup": "True",
         "customdata": [
          [
           "Fire Bolt",
           "Wizard"
          ],
          [
           "Magic Missile",
           "Wizard"
          ],
          [
           "Misty Step",
           "Wizard"
          ]
         ],
         "hovertemplate": "Class=%{customdata[1]}<br>Spell Level=%{x}<br>Spell Popularity=%{y}<br>Spell=%{customdata[0]}<extra></extra>",
         "legendgroup": "Wizard",
         "marker": {
          "color": "#2A50A1",
          "pattern": {
           "shape": ""
          }
         },
         "name": "Wizard",
         "offsetgroup": "Wizard",
         "orientation": "v",
         "showlegend": true,
         "text": [
          "Fire Bolt",
          "Magic Missile",
          "Misty Step"
         ],
         "textposition": "auto",
         "type": "bar",
         "x": [
          "Level 0",
          "Level 1",
          "Level 2"
         ],
         "xaxis": "x",
         "y": {
          "bdata": "jACaADcA",
          "dtype": "i2"
         },
         "yaxis": "y"
        }
       ],
       "layout": {
        "bargap": 0.15,
        "barmode": "group",
        "height": 800,
        "legend": {
         "title": {
          "text": "Class"
         },
         "tracegroupgap": 0
        },
        "template": {
         "data": {
          "bar": [
           {
            "error_x": {
             "color": "#2a3f5f"
            },
            "error_y": {
             "color": "#2a3f5f"
            },
            "marker": {
             "line": {
              "color": "#E5ECF6",
              "width": 0.5
             },
             "pattern": {
              "fillmode": "overlay",
              "size": 10,
              "solidity": 0.2
             }
            },
            "type": "bar"
           }
          ],
          "barpolar": [
           {
            "marker": {
             "line": {
              "color": "#E5ECF6",
              "width": 0.5
             },
             "pattern": {
              "fillmode": "overlay",
              "size": 10,
              "solidity": 0.2
             }
            },
            "type": "barpolar"
           }
          ],
          "carpet": [
           {
            "aaxis": {
             "endlinecolor": "#2a3f5f",
             "gridcolor": "white",
             "linecolor": "white",
             "minorgridcolor": "white",
             "startlinecolor": "#2a3f5f"
            },
            "baxis": {
             "endlinecolor": "#2a3f5f",
             "gridcolor": "white",
             "linecolor": "white",
             "minorgridcolor": "white",
             "startlinecolor": "#2a3f5f"
            },
            "type": "carpet"
           }
          ],
          "choropleth": [
           {
            "colorbar": {
             "outlinewidth": 0,
             "ticks": ""
            },
            "type": "choropleth"
           }
          ],
          "contour": [
           {
            "colorbar": {
             "outlinewidth": 0,
             "ticks": ""
            },
            "colorscale": [
             [
              0,
              "#0d0887"
             ],
             [
              0.1111111111111111,
              "#46039f"
             ],
             [
              0.2222222222222222,
              "#7201a8"
             ],
             [
              0.3333333333333333,
              "#9c179e"
             ],
             [
              0.4444444444444444,
              "#bd3786"
             ],
             [
              0.5555555555555556,
              "#d8576b"
             ],
             [
              0.6666666666666666,
              "#ed7953"
             ],
             [
              0.7777777777777778,
              "#fb9f3a"
             ],
             [
              0.8888888888888888,
              "#fdca26"
             ],
             [
              1,
              "#f0f921"
             ]
            ],
            "type": "contour"
           }
          ],
          "contourcarpet": [
           {
            "colorbar": {
             "outlinewidth": 0,
             "ticks": ""
            },
            "type": "contourcarpet"
           }
          ],
          "heatmap": [
           {
            "colorbar": {
             "outlinewidth": 0,
             "ticks": ""
            },
            "colorscale": [
             [
              0,
              "#0d0887"
             ],
             [
              0.1111111111111111,
              "#46039f"
             ],
             [
              0.2222222222222222,
              "#7201a8"
             ],
             [
              0.3333333333333333,
              "#9c179e"
             ],
             [
              0.4444444444444444,
              "#bd3786"
             ],
             [
              0.5555555555555556,
              "#d8576b"
             ],
             [
              0.6666666666666666,
              "#ed7953"
             ],
             [
              0.7777777777777778,
              "#fb9f3a"
             ],
             [
              0.8888888888888888,
              "#fdca26"
             ],
             [
              1,
              "#f0f921"
             ]
            ],
            "type": "heatmap"
           }
          ],
          "histogram": [
           {
            "marker": {
             "pattern": {
              "fillmode": "overlay",
              "size": 10,
              "solidity": 0.2
             }
            },
            "type": "histogram"
           }
          ],
          "histogram2d": [
           {
            "colorbar": {
             "outlinewidth": 0,
             "ticks": ""
            },
            "colorscale": [
             [
              0,
              "#0d0887"
             ],
             [
              0.1111111111111111,
              "#46039f"
             ],
             [
              0.2222222222222222,
              "#7201a8"
             ],
             [
              0.3333333333333333,
              "#9c179e"
             ],
             [
              0.4444444444444444,
              "#bd3786"
             ],
             [
              0.5555555555555556,
              "#d8576b"
             ],
             [
              0.6666666666666666,
              "#ed7953"
             ],
             [
              0.7777777777777778,
              "#fb9f3a"
             ],
             [
              0.8888888888888888,
              "#fdca26"
             ],
             [
              1,
              "#f0f921"
             ]
            ],
            "type": "histogram2d"
           }
          ],
          "histogram2dcontour": [
           {
            "colorbar": {
             "outlinewidth": 0,
             "ticks": ""
            },
            "colorscale": [
             [
              0,
              "#0d0887"
             ],
             [
              0.1111111111111111,
              "#46039f"
             ],
             [
              0.2222222222222222,
              "#7201a8"
             ],
             [
              0.3333333333333333,
              "#9c179e"
             ],
             [
              0.4444444444444444,
              "#bd3786"
             ],
             [
              0.5555555555555556,
              "#d8576b"
             ],
             [
              0.6666666666666666,
              "#ed7953"
             ],
             [
              0.7777777777777778,
              "#fb9f3a"
             ],
             [
              0.8888888888888888,
              "#fdca26"
             ],
             [
              1,
              "#f0f921"
             ]
            ],
            "type": "histogram2dcontour"
           }
          ],
          "mesh3d": [
           {
            "colorbar": {
             "outlinewidth": 0,
             "ticks": ""
            },
            "type": "mesh3d"
           }
          ],
          "parcoords": [
           {
            "line": {
             "colorbar": {
              "outlinewidth": 0,
              "ticks": ""
             }
            },
            "type": "parcoords"
           }
          ],
          "pie": [
           {
            "automargin": true,
            "type": "pie"
           }
          ],
          "scatter": [
           {
            "fillpattern": {
             "fillmode": "overlay",
             "size": 10,
             "solidity": 0.2
            },
            "type": "scatter"
           }
          ],
          "scatter3d": [
           {
            "line": {
             "colorbar": {
              "outlinewidth": 0,
              "ticks": ""
             }
            },
            "marker": {
             "colorbar": {
              "outlinewidth": 0,
              "ticks": ""
             }
            },
            "type": "scatter3d"
           }
          ],
          "scattercarpet": [
           {
            "marker": {
             "colorbar": {
              "outlinewidth": 0,
              "ticks": ""
             }
            },
            "type": "scattercarpet"
           }
          ],
          "scattergeo": [
           {
            "marker": {
             "colorbar": {
              "outlinewidth": 0,
              "ticks": ""
             }
            },
            "type": "scattergeo"
           }
          ],
          "scattergl": [
           {
            "marker": {
             "colorbar": {
              "outlinewidth": 0,
              "ticks": ""
             }
            },
            "type": "scattergl"
           }
          ],
          "scattermap": [
           {
            "marker": {
             "colorbar": {
              "outlinewidth": 0,
              "ticks": ""
             }
            },
            "type": "scattermap"
           }
          ],
          "scattermapbox": [
           {
            "marker": {
             "colorbar": {
              "outlinewidth": 0,
              "ticks": ""
             }
            },
            "type": "scattermapbox"
           }
          ],
          "scatterpolar": [
           {
            "marker": {
             "colorbar": {
              "outlinewidth": 0,
              "ticks": ""
             }
            },
            "type": "scatterpolar"
           }
          ],
          "scatterpolargl": [
           {
            "marker": {
             "colorbar": {
              "outlinewidth": 0,
              "ticks": ""
             }
            },
            "type": "scatterpolargl"
           }
          ],
          "scatterternary": [
           {
            "marker": {
             "colorbar": {
              "outlinewidth": 0,
              "ticks": ""
             }
            },
            "type": "scatterternary"
           }
          ],
          "surface": [
           {
            "colorbar": {
             "outlinewidth": 0,
             "ticks": ""
            },
            "colorscale": [
             [
              0,
              "#0d0887"
             ],
             [
              0.1111111111111111,
              "#46039f"
             ],
             [
              0.2222222222222222,
              "#7201a8"
             ],
             [
              0.3333333333333333,
              "#9c179e"
             ],
             [
              0.4444444444444444,
              "#bd3786"
             ],
             [
              0.5555555555555556,
              "#d8576b"
             ],
             [
              0.6666666666666666,
              "#ed7953"
             ],
             [
              0.7777777777777778,
              "#fb9f3a"
             ],
             [
              0.8888888888888888,
              "#fdca26"
             ],
             [
              1,
              "#f0f921"
             ]
            ],
            "type": "surface"
           }
          ],
          "table": [
           {
            "cells": {
             "fill": {
              "color": "#EBF0F8"
             },
             "line": {
              "color": "white"
             }
            },
            "header": {
             "fill": {
              "color": "#C8D4E3"
             },
             "line": {
              "color": "white"
             }
            },
            "type": "table"
           }
          ]
         },
         "layout": {
          "annotationdefaults": {
           "arrowcolor": "#2a3f5f",
           "arrowhead": 0,
           "arrowwidth": 1
          },
          "autotypenumbers": "strict",
          "coloraxis": {
           "colorbar": {
            "outlinewidth": 0,
            "ticks": ""
           }
          },
          "colorscale": {
           "diverging": [
            [
             0,
             "#8e0152"
            ],
            [
             0.1,
             "#c51b7d"
            ],
            [
             0.2,
             "#de77ae"
            ],
            [
             0.3,
             "#f1b6da"
            ],
            [
             0.4,
             "#fde0ef"
            ],
            [
             0.5,
             "#f7f7f7"
            ],
            [
             0.6,
             "#e6f5d0"
            ],
            [
             0.7,
             "#b8e186"
            ],
            [
             0.8,
             "#7fbc41"
            ],
            [
             0.9,
             "#4d9221"
            ],
            [
             1,
             "#276419"
            ]
           ],
           "sequential": [
            [
             0,
             "#0d0887"
            ],
            [
             0.1111111111111111,
             "#46039f"
            ],
            [
             0.2222222222222222,
             "#7201a8"
            ],
            [
             0.3333333333333333,
             "#9c179e"
            ],
            [
             0.4444444444444444,
             "#bd3786"
            ],
            [
             0.5555555555555556,
             "#d8576b"
            ],
            [
             0.6666666666666666,
             "#ed7953"
            ],
            [
             0.7777777777777778,
             "#fb9f3a"
            ],
            [
             0.8888888888888888,
             "#fdca26"
            ],
            [
             1,
             "#f0f921"
            ]
           ],
           "sequentialminus": [
            [
             0,
             "#0d0887"
            ],
            [
             0.1111111111111111,
             "#46039f"
            ],
            [
             0.2222222222222222,
             "#7201a8"
            ],
            [
             0.3333333333333333,
             "#9c179e"
            ],
            [
             0.4444444444444444,
             "#bd3786"
            ],
            [
             0.5555555555555556,
             "#d8576b"
            ],
            [
             0.6666666666666666,
             "#ed7953"
            ],
            [
             0.7777777777777778,
             "#fb9f3a"
            ],
            [
             0.8888888888888888,
             "#fdca26"
            ],
            [
             1,
             "#f0f921"
            ]
           ]
          },
          "colorway": [
           "#636efa",
           "#EF553B",
           "#00cc96",
           "#ab63fa",
           "#FFA15A",
           "#19d3f3",
           "#FF6692",
           "#B6E880",
           "#FF97FF",
           "#FECB52"
          ],
          "font": {
           "color": "#2a3f5f"
          },
          "geo": {
           "bgcolor": "white",
           "lakecolor": "white",
           "landcolor": "#E5ECF6",
           "showlakes": true,
           "showland": true,
           "subunitcolor": "white"
          },
          "hoverlabel": {
           "align": "left"
          },
          "hovermode": "closest",
          "mapbox": {
           "style": "light"
          },
          "paper_bgcolor": "white",
          "plot_bgcolor": "#E5ECF6",
          "polar": {
           "angularaxis": {
            "gridcolor": "white",
            "linecolor": "white",
            "ticks": ""
           },
           "bgcolor": "#E5ECF6",
           "radialaxis": {
            "gridcolor": "white",
            "linecolor": "white",
            "ticks": ""
           }
          },
          "scene": {
           "xaxis": {
            "backgroundcolor": "#E5ECF6",
            "gridcolor": "white",
            "gridwidth": 2,
            "linecolor": "white",
            "showbackground": true,
            "ticks": "",
            "zerolinecolor": "white"
           },
           "yaxis": {
            "backgroundcolor": "#E5ECF6",
            "gridcolor": "white",
            "gridwidth": 2,
            "linecolor": "white",
            "showbackground": true,
            "ticks": "",
            "zerolinecolor": "white"
           },
           "zaxis": {
            "backgroundcolor": "#E5ECF6",
            "gridcolor": "white",
            "gridwidth": 2,
            "linecolor": "white",
            "showbackground": true,
            "ticks": "",
            "zerolinecolor": "white"
           }
          },
          "shapedefaults": {
           "line": {
            "color": "#2a3f5f"
           }
          },
          "ternary": {
           "aaxis": {
            "gridcolor": "white",
            "linecolor": "white",
            "ticks": ""
           },
           "baxis": {
            "gridcolor": "white",
            "linecolor": "white",
            "ticks": ""
           },
           "bgcolor": "#E5ECF6",
           "caxis": {
            "gridcolor": "white",
            "linecolor": "white",
            "ticks": ""
           }
          },
          "title": {
           "x": 0.05
          },
          "xaxis": {
           "automargin": true,
           "gridcolor": "white",
           "linecolor": "white",
           "ticks": "",
           "title": {
            "standoff": 15
           },
           "zerolinecolor": "white",
           "zerolinewidth": 2
          },
          "yaxis": {
           "automargin": true,
           "gridcolor": "white",
           "linecolor": "white",
           "ticks": "",
           "title": {
            "standoff": 15
           },
           "zerolinecolor": "white",
           "zerolinewidth": 2
          }
         }
        },
        "title": {
         "text": "Most Popular Spells at Levels 0, 1, and 2 per Class"
        },
        "width": 1000,
        "xaxis": {
         "anchor": "y",
         "domain": [
          0,
          1
         ],
         "title": {
          "text": "Spell Level"
         }
        },
        "yaxis": {
         "anchor": "x",
         "domain": [
          0,
          1
         ],
         "title": {
          "text": "Spell Popularity (Count)"
         }
        }
       }
      }
     },
     "metadata": {},
     "output_type": "display_data"
    }
   ],
   "source": [
    "import pandas as pd\n",
    "import plotly.express as px\n",
    "\n",
    "# Load dataset\n",
    "file_path = \"cleaned_data_DnD_smaller.csv\"\n",
    "df = pd.read_csv(file_path)\n",
    "\n",
    "# Filter for six spellcasting classes\n",
    "selected_classes = [\"Bard\", \"Cleric\", \"Druid\", \"Sorcerer\", \"Warlock\", \"Wizard\"]\n",
    "df_filtered = df[df[\"justClass\"].isin(selected_classes)]\n",
    "\n",
    "# Dictionary to store spell counts per class and level\n",
    "class_spell_counts = {cls: {0: {}, 1: {}, 2: {}} for cls in selected_classes}\n",
    "\n",
    "# Extract spells by parsing through spell lists\n",
    "# Count them based on levels\n",
    "for _, row in df_filtered.iterrows():\n",
    "    cls = row[\"justClass\"]\n",
    "    if pd.notna(row[\"processedSpells\"]):\n",
    "        # Split using '|' as the spell divider\n",
    "        spell_list = row[\"processedSpells\"].split(\"|\")  \n",
    "        for spell in spell_list:\n",
    "            # Split at asterisk to separate spell name and level\n",
    "            parts = spell.split(\"*\")  \n",
    "            if len(parts) == 2:\n",
    "                # Extract spell name and level\n",
    "                spell_name, level = parts[0].strip(), parts[1].strip()  \n",
    "                if level.isdigit():\n",
    "                    level = int(level)\n",
    "                    # Only process levels 0, 1, and 2\n",
    "                    if level in [0, 1, 2]:  \n",
    "                        class_spell_counts[cls][level][spell_name] = class_spell_counts[cls][level].get(spell_name, 0) + 1\n",
    "\n",
    "# Find most popular spell per class per level\n",
    "top_class_spells = []\n",
    "for cls in selected_classes:\n",
    "    for level in [0, 1, 2]:\n",
    "        # Ensure spells exist at this level\n",
    "        if class_spell_counts[cls][level]:  \n",
    "            top_spell = max(class_spell_counts[cls][level], key=class_spell_counts[cls][level].get)\n",
    "            count = class_spell_counts[cls][level][top_spell]\n",
    "            top_class_spells.append({\n",
    "                \"Class\": cls, \n",
    "                \"Spell Level\": f\"Level {level}\", \n",
    "                \"Spell\": top_spell, \n",
    "                \"Count\": count\n",
    "            })\n",
    "\n",
    "# Convert to DataFrame for visualization\n",
    "df_top_class_spells = pd.DataFrame(top_class_spells)\n",
    "\n",
    "# Custom color scheme for D&D spellcasting classes\n",
    "class_colors = {\n",
    "    \"Bard\": \"#AB6DAC\",\n",
    "    \"Cleric\": \"#91A1B2\",\n",
    "    \"Druid\": \"#7A853B\",\n",
    "    \"Sorcerer\": \"#992E2E\",\n",
    "    \"Warlock\": \"#7B469B\",\n",
    "    \"Wizard\": \"#2A50A1\"\n",
    "}\n",
    "\n",
    "# Create interactive grouped bar chart using Plotly\n",
    "fig = px.bar(\n",
    "    df_top_class_spells, \n",
    "    x=\"Spell Level\", \n",
    "    y=\"Count\", \n",
    "    color=\"Class\", \n",
    "    text=\"Spell\",  # Set spell names as hover labels\n",
    "    barmode=\"group\",\n",
    "    title=\"Most Popular Spells at Levels 0, 1, and 2 per Class\",\n",
    "    labels={\"Count\": \"Spell Popularity\", \"Spell Level\": \"Spell Level\"},\n",
    "    # Show spell name on hover\n",
    "    hover_data={\"Spell\": True, \"Class\": True, \"Count\": True}, \n",
    "    # Apply custom color scheme \n",
    "    color_discrete_map=class_colors  \n",
    ")\n",
    "\n",
    "# Improve readability\n",
    "fig.update_layout(\n",
    "    xaxis_title=\"Spell Level\",\n",
    "    yaxis_title=\"Spell Popularity (Count)\",\n",
    "    legend_title=\"Class\",\n",
    "    bargap=0.15,  # Adjust bar width\n",
    "    height=800, width=1000\n",
    ")\n",
    "\n",
    "# Show the interactive chart\n",
    "fig.show()\n"
   ]
  },
  {
   "cell_type": "code",
   "execution_count": 34,
   "metadata": {},
   "outputs": [
    {
     "data": {
      "application/vnd.plotly.v1+json": {
       "config": {
        "plotlyServerURL": "https://plot.ly"
       },
       "data": [
        {
         "branchvalues": "total",
         "customdata": [
          [
           "Bard"
          ],
          [
           "Bard"
          ],
          [
           "Bard"
          ],
          [
           "Bard"
          ],
          [
           "Cleric"
          ],
          [
           "Cleric"
          ],
          [
           "Cleric"
          ],
          [
           "Cleric"
          ],
          [
           "Druid"
          ],
          [
           "Druid"
          ],
          [
           "Druid"
          ],
          [
           "Druid"
          ],
          [
           "Sorcerer"
          ],
          [
           "Sorcerer"
          ],
          [
           "Sorcerer"
          ],
          [
           "Sorcerer"
          ],
          [
           "Warlock"
          ],
          [
           "Warlock"
          ],
          [
           "Warlock"
          ],
          [
           "Warlock"
          ],
          [
           "Wizard"
          ],
          [
           "Wizard"
          ],
          [
           "Wizard"
          ],
          [
           "Wizard"
          ]
         ],
         "domain": {
          "x": [
           0,
           1
          ],
          "y": [
           0,
           1
          ]
         },
         "hovertemplate": "labels=%{label}<br>count=%{value}<br>parent=%{parent}<br>id=%{id}<br>class_starting=%{customdata[0]}<extra></extra>",
         "ids": [
          "Bard/College of Glamour",
          "Bard/College of Lore",
          "Bard/College of Valor",
          "Bard",
          "Cleric/Life Domain",
          "Cleric/Tempest Domain",
          "Cleric/War Domain",
          "Cleric",
          "Druid/Circle of the Land (Forest)",
          "Druid/Circle of the Land (Mountain)",
          "Druid/Circle of the Moon",
          "Druid",
          "Sorcerer",
          "Sorcerer/Wild Magic",
          "Sorcerer/Draconic Bloodline",
          "Sorcerer/Divine Soul",
          "Warlock/The Hexblade",
          "Warlock/The Fiend",
          "Warlock",
          "Warlock/The Great Old One",
          "Wizard/School of Divination",
          "Wizard/School of Evocation",
          "Wizard/School of Necromancy",
          "Wizard"
         ],
         "labels": [
          "College of Glamour",
          "College of Lore",
          "College of Valor",
          "Bard",
          "Life Domain",
          "Tempest Domain",
          "War Domain",
          "Cleric",
          "Circle of the Land (Forest)",
          "Circle of the Land (Mountain)",
          "Circle of the Moon",
          "Druid",
          "Sorcerer",
          "Wild Magic",
          "Draconic Bloodline",
          "Divine Soul",
          "The Hexblade",
          "The Fiend",
          "Warlock",
          "The Great Old One",
          "School of Divination",
          "School of Evocation",
          "School of Necromancy",
          "Wizard"
         ],
         "marker": {
          "colors": [
           "#AB6DAC",
           "#AB6DAC",
           "#AB6DAC",
           "#AB6DAC",
           "#91A1B2",
           "#91A1B2",
           "#91A1B2",
           "#91A1B2",
           "#7A853B",
           "#7A853B",
           "#7A853B",
           "#7A853B",
           "#992E2E",
           "#992E2E",
           "#992E2E",
           "#992E2E",
           "#7B469B",
           "#7B469B",
           "#7B469B",
           "#7B469B",
           "#2A50A1",
           "#2A50A1",
           "#2A50A1",
           "#2A50A1"
          ]
         },
         "name": "",
         "parents": [
          "Bard",
          "Bard",
          "Bard",
          "",
          "Cleric",
          "Cleric",
          "Cleric",
          "",
          "Druid",
          "Druid",
          "Druid",
          "",
          "",
          "Sorcerer",
          "Sorcerer",
          "Sorcerer",
          "Warlock",
          "Warlock",
          "",
          "Warlock",
          "Wizard",
          "Wizard",
          "Wizard",
          ""
         ],
         "type": "sunburst",
         "values": {
          "bdata": "AAAAAAAqokAAAAAAAOnbQAAAAAAAGKNAAAAAAKBI4EAAAAAAoGfuQAAAAAAAYKtAAAAAAABiqkAAAAAA4OHwQAAAAACAwcFAAAAAAACoqUAAAAAAAFLAQAAAAADAPtRAAAAAAKCd7kAAAAAAAAa0QAAAAAAgGetAAAAAAAA8oEAAAAAAAPSxQAAAAAAAQ+tAAAAAAOCm70AAAAAAACuxQAAAAAAAcqNAAAAAAABU2UAAAAAAACSkQAAAAADARt5A",
          "dtype": "f8"
         }
        }
       ],
       "layout": {
        "font": {
         "size": 16
        },
        "height": 700,
        "legend": {
         "tracegroupgap": 0
        },
        "margin": {
         "b": 10,
         "l": 10,
         "r": 10,
         "t": 80
        },
        "template": {
         "data": {
          "bar": [
           {
            "error_x": {
             "color": "#2a3f5f"
            },
            "error_y": {
             "color": "#2a3f5f"
            },
            "marker": {
             "line": {
              "color": "#E5ECF6",
              "width": 0.5
             },
             "pattern": {
              "fillmode": "overlay",
              "size": 10,
              "solidity": 0.2
             }
            },
            "type": "bar"
           }
          ],
          "barpolar": [
           {
            "marker": {
             "line": {
              "color": "#E5ECF6",
              "width": 0.5
             },
             "pattern": {
              "fillmode": "overlay",
              "size": 10,
              "solidity": 0.2
             }
            },
            "type": "barpolar"
           }
          ],
          "carpet": [
           {
            "aaxis": {
             "endlinecolor": "#2a3f5f",
             "gridcolor": "white",
             "linecolor": "white",
             "minorgridcolor": "white",
             "startlinecolor": "#2a3f5f"
            },
            "baxis": {
             "endlinecolor": "#2a3f5f",
             "gridcolor": "white",
             "linecolor": "white",
             "minorgridcolor": "white",
             "startlinecolor": "#2a3f5f"
            },
            "type": "carpet"
           }
          ],
          "choropleth": [
           {
            "colorbar": {
             "outlinewidth": 0,
             "ticks": ""
            },
            "type": "choropleth"
           }
          ],
          "contour": [
           {
            "colorbar": {
             "outlinewidth": 0,
             "ticks": ""
            },
            "colorscale": [
             [
              0,
              "#0d0887"
             ],
             [
              0.1111111111111111,
              "#46039f"
             ],
             [
              0.2222222222222222,
              "#7201a8"
             ],
             [
              0.3333333333333333,
              "#9c179e"
             ],
             [
              0.4444444444444444,
              "#bd3786"
             ],
             [
              0.5555555555555556,
              "#d8576b"
             ],
             [
              0.6666666666666666,
              "#ed7953"
             ],
             [
              0.7777777777777778,
              "#fb9f3a"
             ],
             [
              0.8888888888888888,
              "#fdca26"
             ],
             [
              1,
              "#f0f921"
             ]
            ],
            "type": "contour"
           }
          ],
          "contourcarpet": [
           {
            "colorbar": {
             "outlinewidth": 0,
             "ticks": ""
            },
            "type": "contourcarpet"
           }
          ],
          "heatmap": [
           {
            "colorbar": {
             "outlinewidth": 0,
             "ticks": ""
            },
            "colorscale": [
             [
              0,
              "#0d0887"
             ],
             [
              0.1111111111111111,
              "#46039f"
             ],
             [
              0.2222222222222222,
              "#7201a8"
             ],
             [
              0.3333333333333333,
              "#9c179e"
             ],
             [
              0.4444444444444444,
              "#bd3786"
             ],
             [
              0.5555555555555556,
              "#d8576b"
             ],
             [
              0.6666666666666666,
              "#ed7953"
             ],
             [
              0.7777777777777778,
              "#fb9f3a"
             ],
             [
              0.8888888888888888,
              "#fdca26"
             ],
             [
              1,
              "#f0f921"
             ]
            ],
            "type": "heatmap"
           }
          ],
          "histogram": [
           {
            "marker": {
             "pattern": {
              "fillmode": "overlay",
              "size": 10,
              "solidity": 0.2
             }
            },
            "type": "histogram"
           }
          ],
          "histogram2d": [
           {
            "colorbar": {
             "outlinewidth": 0,
             "ticks": ""
            },
            "colorscale": [
             [
              0,
              "#0d0887"
             ],
             [
              0.1111111111111111,
              "#46039f"
             ],
             [
              0.2222222222222222,
              "#7201a8"
             ],
             [
              0.3333333333333333,
              "#9c179e"
             ],
             [
              0.4444444444444444,
              "#bd3786"
             ],
             [
              0.5555555555555556,
              "#d8576b"
             ],
             [
              0.6666666666666666,
              "#ed7953"
             ],
             [
              0.7777777777777778,
              "#fb9f3a"
             ],
             [
              0.8888888888888888,
              "#fdca26"
             ],
             [
              1,
              "#f0f921"
             ]
            ],
            "type": "histogram2d"
           }
          ],
          "histogram2dcontour": [
           {
            "colorbar": {
             "outlinewidth": 0,
             "ticks": ""
            },
            "colorscale": [
             [
              0,
              "#0d0887"
             ],
             [
              0.1111111111111111,
              "#46039f"
             ],
             [
              0.2222222222222222,
              "#7201a8"
             ],
             [
              0.3333333333333333,
              "#9c179e"
             ],
             [
              0.4444444444444444,
              "#bd3786"
             ],
             [
              0.5555555555555556,
              "#d8576b"
             ],
             [
              0.6666666666666666,
              "#ed7953"
             ],
             [
              0.7777777777777778,
              "#fb9f3a"
             ],
             [
              0.8888888888888888,
              "#fdca26"
             ],
             [
              1,
              "#f0f921"
             ]
            ],
            "type": "histogram2dcontour"
           }
          ],
          "mesh3d": [
           {
            "colorbar": {
             "outlinewidth": 0,
             "ticks": ""
            },
            "type": "mesh3d"
           }
          ],
          "parcoords": [
           {
            "line": {
             "colorbar": {
              "outlinewidth": 0,
              "ticks": ""
             }
            },
            "type": "parcoords"
           }
          ],
          "pie": [
           {
            "automargin": true,
            "type": "pie"
           }
          ],
          "scatter": [
           {
            "fillpattern": {
             "fillmode": "overlay",
             "size": 10,
             "solidity": 0.2
            },
            "type": "scatter"
           }
          ],
          "scatter3d": [
           {
            "line": {
             "colorbar": {
              "outlinewidth": 0,
              "ticks": ""
             }
            },
            "marker": {
             "colorbar": {
              "outlinewidth": 0,
              "ticks": ""
             }
            },
            "type": "scatter3d"
           }
          ],
          "scattercarpet": [
           {
            "marker": {
             "colorbar": {
              "outlinewidth": 0,
              "ticks": ""
             }
            },
            "type": "scattercarpet"
           }
          ],
          "scattergeo": [
           {
            "marker": {
             "colorbar": {
              "outlinewidth": 0,
              "ticks": ""
             }
            },
            "type": "scattergeo"
           }
          ],
          "scattergl": [
           {
            "marker": {
             "colorbar": {
              "outlinewidth": 0,
              "ticks": ""
             }
            },
            "type": "scattergl"
           }
          ],
          "scattermap": [
           {
            "marker": {
             "colorbar": {
              "outlinewidth": 0,
              "ticks": ""
             }
            },
            "type": "scattermap"
           }
          ],
          "scattermapbox": [
           {
            "marker": {
             "colorbar": {
              "outlinewidth": 0,
              "ticks": ""
             }
            },
            "type": "scattermapbox"
           }
          ],
          "scatterpolar": [
           {
            "marker": {
             "colorbar": {
              "outlinewidth": 0,
              "ticks": ""
             }
            },
            "type": "scatterpolar"
           }
          ],
          "scatterpolargl": [
           {
            "marker": {
             "colorbar": {
              "outlinewidth": 0,
              "ticks": ""
             }
            },
            "type": "scatterpolargl"
           }
          ],
          "scatterternary": [
           {
            "marker": {
             "colorbar": {
              "outlinewidth": 0,
              "ticks": ""
             }
            },
            "type": "scatterternary"
           }
          ],
          "surface": [
           {
            "colorbar": {
             "outlinewidth": 0,
             "ticks": ""
            },
            "colorscale": [
             [
              0,
              "#0d0887"
             ],
             [
              0.1111111111111111,
              "#46039f"
             ],
             [
              0.2222222222222222,
              "#7201a8"
             ],
             [
              0.3333333333333333,
              "#9c179e"
             ],
             [
              0.4444444444444444,
              "#bd3786"
             ],
             [
              0.5555555555555556,
              "#d8576b"
             ],
             [
              0.6666666666666666,
              "#ed7953"
             ],
             [
              0.7777777777777778,
              "#fb9f3a"
             ],
             [
              0.8888888888888888,
              "#fdca26"
             ],
             [
              1,
              "#f0f921"
             ]
            ],
            "type": "surface"
           }
          ],
          "table": [
           {
            "cells": {
             "fill": {
              "color": "#EBF0F8"
             },
             "line": {
              "color": "white"
             }
            },
            "header": {
             "fill": {
              "color": "#C8D4E3"
             },
             "line": {
              "color": "white"
             }
            },
            "type": "table"
           }
          ]
         },
         "layout": {
          "annotationdefaults": {
           "arrowcolor": "#2a3f5f",
           "arrowhead": 0,
           "arrowwidth": 1
          },
          "autotypenumbers": "strict",
          "coloraxis": {
           "colorbar": {
            "outlinewidth": 0,
            "ticks": ""
           }
          },
          "colorscale": {
           "diverging": [
            [
             0,
             "#8e0152"
            ],
            [
             0.1,
             "#c51b7d"
            ],
            [
             0.2,
             "#de77ae"
            ],
            [
             0.3,
             "#f1b6da"
            ],
            [
             0.4,
             "#fde0ef"
            ],
            [
             0.5,
             "#f7f7f7"
            ],
            [
             0.6,
             "#e6f5d0"
            ],
            [
             0.7,
             "#b8e186"
            ],
            [
             0.8,
             "#7fbc41"
            ],
            [
             0.9,
             "#4d9221"
            ],
            [
             1,
             "#276419"
            ]
           ],
           "sequential": [
            [
             0,
             "#0d0887"
            ],
            [
             0.1111111111111111,
             "#46039f"
            ],
            [
             0.2222222222222222,
             "#7201a8"
            ],
            [
             0.3333333333333333,
             "#9c179e"
            ],
            [
             0.4444444444444444,
             "#bd3786"
            ],
            [
             0.5555555555555556,
             "#d8576b"
            ],
            [
             0.6666666666666666,
             "#ed7953"
            ],
            [
             0.7777777777777778,
             "#fb9f3a"
            ],
            [
             0.8888888888888888,
             "#fdca26"
            ],
            [
             1,
             "#f0f921"
            ]
           ],
           "sequentialminus": [
            [
             0,
             "#0d0887"
            ],
            [
             0.1111111111111111,
             "#46039f"
            ],
            [
             0.2222222222222222,
             "#7201a8"
            ],
            [
             0.3333333333333333,
             "#9c179e"
            ],
            [
             0.4444444444444444,
             "#bd3786"
            ],
            [
             0.5555555555555556,
             "#d8576b"
            ],
            [
             0.6666666666666666,
             "#ed7953"
            ],
            [
             0.7777777777777778,
             "#fb9f3a"
            ],
            [
             0.8888888888888888,
             "#fdca26"
            ],
            [
             1,
             "#f0f921"
            ]
           ]
          },
          "colorway": [
           "#636efa",
           "#EF553B",
           "#00cc96",
           "#ab63fa",
           "#FFA15A",
           "#19d3f3",
           "#FF6692",
           "#B6E880",
           "#FF97FF",
           "#FECB52"
          ],
          "font": {
           "color": "#2a3f5f"
          },
          "geo": {
           "bgcolor": "white",
           "lakecolor": "white",
           "landcolor": "#E5ECF6",
           "showlakes": true,
           "showland": true,
           "subunitcolor": "white"
          },
          "hoverlabel": {
           "align": "left"
          },
          "hovermode": "closest",
          "mapbox": {
           "style": "light"
          },
          "paper_bgcolor": "white",
          "plot_bgcolor": "#E5ECF6",
          "polar": {
           "angularaxis": {
            "gridcolor": "white",
            "linecolor": "white",
            "ticks": ""
           },
           "bgcolor": "#E5ECF6",
           "radialaxis": {
            "gridcolor": "white",
            "linecolor": "white",
            "ticks": ""
           }
          },
          "scene": {
           "xaxis": {
            "backgroundcolor": "#E5ECF6",
            "gridcolor": "white",
            "gridwidth": 2,
            "linecolor": "white",
            "showbackground": true,
            "ticks": "",
            "zerolinecolor": "white"
           },
           "yaxis": {
            "backgroundcolor": "#E5ECF6",
            "gridcolor": "white",
            "gridwidth": 2,
            "linecolor": "white",
            "showbackground": true,
            "ticks": "",
            "zerolinecolor": "white"
           },
           "zaxis": {
            "backgroundcolor": "#E5ECF6",
            "gridcolor": "white",
            "gridwidth": 2,
            "linecolor": "white",
            "showbackground": true,
            "ticks": "",
            "zerolinecolor": "white"
           }
          },
          "shapedefaults": {
           "line": {
            "color": "#2a3f5f"
           }
          },
          "ternary": {
           "aaxis": {
            "gridcolor": "white",
            "linecolor": "white",
            "ticks": ""
           },
           "baxis": {
            "gridcolor": "white",
            "linecolor": "white",
            "ticks": ""
           },
           "bgcolor": "#E5ECF6",
           "caxis": {
            "gridcolor": "white",
            "linecolor": "white",
            "ticks": ""
           }
          },
          "title": {
           "x": 0.05
          },
          "xaxis": {
           "automargin": true,
           "gridcolor": "white",
           "linecolor": "white",
           "ticks": "",
           "title": {
            "standoff": 15
           },
           "zerolinecolor": "white",
           "zerolinewidth": 2
          },
          "yaxis": {
           "automargin": true,
           "gridcolor": "white",
           "linecolor": "white",
           "ticks": "",
           "title": {
            "standoff": 15
           },
           "zerolinecolor": "white",
           "zerolinewidth": 2
          }
         }
        },
        "title": {
         "text": "Top 3 Subclasses for Each Class (Sunburst Chart)"
        },
        "width": 700
       }
      }
     },
     "metadata": {},
     "output_type": "display_data"
    }
   ],
   "source": [
    "import plotly.express as px\n",
    "import pandas as pd\n",
    "\n",
    "# Load dataset\n",
    "zip_path = \"over_one_mil_chars.zip\"\n",
    "df = pd.read_csv(zip_path, usecols=[\"class_starting\", \"subclass_starting\"])\n",
    "\n",
    "# Filter for six spellcasting classes\n",
    "selected_classes = [\"Bard\", \"Cleric\", \"Druid\", \"Sorcerer\", \"Warlock\", \"Wizard\"]\n",
    "df_filtered = df[df[\"class_starting\"].isin(selected_classes)]\n",
    "\n",
    "# Count number of each subclass per class\n",
    "df_counts = df_filtered.groupby([\"class_starting\", \"subclass_starting\"]).size().reset_index(name=\"count\")\n",
    "\n",
    "# Rank subclasses for each class; keep only top 3\n",
    "df_counts[\"ranks\"] = df_counts.groupby(\"class_starting\")[\"count\"].rank(method=\"dense\", ascending=False)\n",
    "df_top_subclasses = df_counts[df_counts[\"ranks\"] <= 3]\n",
    "\n",
    "# Custom color scheme for D&D spellcasting classes\n",
    "class_colors = {\n",
    "    \"Bard\": \"#AB6DAC\",\n",
    "    \"Cleric\": \"#91A1B2\",\n",
    "    \"Druid\": \"#7A853B\",\n",
    "    \"Sorcerer\": \"#992E2E\",\n",
    "    \"Warlock\": \"#7B469B\",\n",
    "    \"Wizard\": \"#2A50A1\"\n",
    "}\n",
    "\n",
    "# Create Sunburst Chart\n",
    "# Only thing I thought of was the candy, but this is no candy\n",
    "# After making the radial this was much easier\n",
    "fig_sunburst = px.sunburst(\n",
    "    df_top_subclasses,\n",
    "    path=[\"class_starting\", \"subclass_starting\"],\n",
    "    values=\"count\",\n",
    "    title=\"Top 3 Subclasses for Each Class (Sunburst Chart)\",\n",
    "    color=\"class_starting\",\n",
    "    color_discrete_map=class_colors\n",
    ")\n",
    "\n",
    "# Modify for better readability\n",
    "fig_sunburst.update_layout(\n",
    "    width=700,\n",
    "    height=700,\n",
    "    font=dict(size=16),\n",
    "    # Adjust margins\n",
    "    margin=dict(t=80, l=10, r=10, b=10)  \n",
    ")\n",
    "\n",
    "# Show chart\n",
    "fig_sunburst.show()\n"
   ]
  },
  {
   "cell_type": "code",
   "execution_count": 31,
   "metadata": {},
   "outputs": [
    {
     "data": {
      "application/vnd.plotly.v1+json": {
       "config": {
        "plotlyServerURL": "https://plot.ly"
       },
       "data": [
        {
         "hovertemplate": "Class=%{x}<br>Gold (Avg)=%{y}<extra></extra>",
         "legendgroup": "Bard",
         "marker": {
          "color": "#AB6DAC",
          "pattern": {
           "shape": ""
          }
         },
         "name": "Bard",
         "orientation": "v",
         "showlegend": true,
         "textposition": "auto",
         "type": "bar",
         "x": [
          "Bard"
         ],
         "xaxis": "x",
         "y": {
          "bdata": "vVb7CsVyk0A=",
          "dtype": "f8"
         },
         "yaxis": "y"
        },
        {
         "hovertemplate": "Class=%{x}<br>Gold (Avg)=%{y}<extra></extra>",
         "legendgroup": "Cleric",
         "marker": {
          "color": "#91A1B2",
          "pattern": {
           "shape": ""
          }
         },
         "name": "Cleric",
         "orientation": "v",
         "showlegend": true,
         "textposition": "auto",
         "type": "bar",
         "x": [
          "Cleric"
         ],
         "xaxis": "x",
         "y": {
          "bdata": "tleA8F/9lkA=",
          "dtype": "f8"
         },
         "yaxis": "y"
        },
        {
         "hovertemplate": "Class=%{x}<br>Gold (Avg)=%{y}<extra></extra>",
         "legendgroup": "Druid",
         "marker": {
          "color": "#7A853B",
          "pattern": {
           "shape": ""
          }
         },
         "name": "Druid",
         "orientation": "v",
         "showlegend": true,
         "textposition": "auto",
         "type": "bar",
         "x": [
          "Druid"
         ],
         "xaxis": "x",
         "y": {
          "bdata": "hC+eR1cclEA=",
          "dtype": "f8"
         },
         "yaxis": "y"
        },
        {
         "hovertemplate": "Class=%{x}<br>Gold (Avg)=%{y}<extra></extra>",
         "legendgroup": "Sorcerer",
         "marker": {
          "color": "#992E2E",
          "pattern": {
           "shape": ""
          }
         },
         "name": "Sorcerer",
         "orientation": "v",
         "showlegend": true,
         "textposition": "auto",
         "type": "bar",
         "x": [
          "Sorcerer"
         ],
         "xaxis": "x",
         "y": {
          "bdata": "T1Ee3hGUmUA=",
          "dtype": "f8"
         },
         "yaxis": "y"
        },
        {
         "hovertemplate": "Class=%{x}<br>Gold (Avg)=%{y}<extra></extra>",
         "legendgroup": "Warlock",
         "marker": {
          "color": "#7B469B",
          "pattern": {
           "shape": ""
          }
         },
         "name": "Warlock",
         "orientation": "v",
         "showlegend": true,
         "textposition": "auto",
         "type": "bar",
         "x": [
          "Warlock"
         ],
         "xaxis": "x",
         "y": {
          "bdata": "i95BpwqTl0A=",
          "dtype": "f8"
         },
         "yaxis": "y"
        },
        {
         "hovertemplate": "Class=%{x}<br>Gold (Avg)=%{y}<extra></extra>",
         "legendgroup": "Wizard",
         "marker": {
          "color": "#2A50A1",
          "pattern": {
           "shape": ""
          }
         },
         "name": "Wizard",
         "orientation": "v",
         "showlegend": true,
         "textposition": "auto",
         "type": "bar",
         "x": [
          "Wizard"
         ],
         "xaxis": "x",
         "y": {
          "bdata": "qeyegI3Lm0A=",
          "dtype": "f8"
         },
         "yaxis": "y"
        }
       ],
       "layout": {
        "barmode": "relative",
        "height": 600,
        "legend": {
         "title": {
          "text": "Class"
         },
         "tracegroupgap": 0
        },
        "template": {
         "data": {
          "bar": [
           {
            "error_x": {
             "color": "#2a3f5f"
            },
            "error_y": {
             "color": "#2a3f5f"
            },
            "marker": {
             "line": {
              "color": "#E5ECF6",
              "width": 0.5
             },
             "pattern": {
              "fillmode": "overlay",
              "size": 10,
              "solidity": 0.2
             }
            },
            "type": "bar"
           }
          ],
          "barpolar": [
           {
            "marker": {
             "line": {
              "color": "#E5ECF6",
              "width": 0.5
             },
             "pattern": {
              "fillmode": "overlay",
              "size": 10,
              "solidity": 0.2
             }
            },
            "type": "barpolar"
           }
          ],
          "carpet": [
           {
            "aaxis": {
             "endlinecolor": "#2a3f5f",
             "gridcolor": "white",
             "linecolor": "white",
             "minorgridcolor": "white",
             "startlinecolor": "#2a3f5f"
            },
            "baxis": {
             "endlinecolor": "#2a3f5f",
             "gridcolor": "white",
             "linecolor": "white",
             "minorgridcolor": "white",
             "startlinecolor": "#2a3f5f"
            },
            "type": "carpet"
           }
          ],
          "choropleth": [
           {
            "colorbar": {
             "outlinewidth": 0,
             "ticks": ""
            },
            "type": "choropleth"
           }
          ],
          "contour": [
           {
            "colorbar": {
             "outlinewidth": 0,
             "ticks": ""
            },
            "colorscale": [
             [
              0,
              "#0d0887"
             ],
             [
              0.1111111111111111,
              "#46039f"
             ],
             [
              0.2222222222222222,
              "#7201a8"
             ],
             [
              0.3333333333333333,
              "#9c179e"
             ],
             [
              0.4444444444444444,
              "#bd3786"
             ],
             [
              0.5555555555555556,
              "#d8576b"
             ],
             [
              0.6666666666666666,
              "#ed7953"
             ],
             [
              0.7777777777777778,
              "#fb9f3a"
             ],
             [
              0.8888888888888888,
              "#fdca26"
             ],
             [
              1,
              "#f0f921"
             ]
            ],
            "type": "contour"
           }
          ],
          "contourcarpet": [
           {
            "colorbar": {
             "outlinewidth": 0,
             "ticks": ""
            },
            "type": "contourcarpet"
           }
          ],
          "heatmap": [
           {
            "colorbar": {
             "outlinewidth": 0,
             "ticks": ""
            },
            "colorscale": [
             [
              0,
              "#0d0887"
             ],
             [
              0.1111111111111111,
              "#46039f"
             ],
             [
              0.2222222222222222,
              "#7201a8"
             ],
             [
              0.3333333333333333,
              "#9c179e"
             ],
             [
              0.4444444444444444,
              "#bd3786"
             ],
             [
              0.5555555555555556,
              "#d8576b"
             ],
             [
              0.6666666666666666,
              "#ed7953"
             ],
             [
              0.7777777777777778,
              "#fb9f3a"
             ],
             [
              0.8888888888888888,
              "#fdca26"
             ],
             [
              1,
              "#f0f921"
             ]
            ],
            "type": "heatmap"
           }
          ],
          "histogram": [
           {
            "marker": {
             "pattern": {
              "fillmode": "overlay",
              "size": 10,
              "solidity": 0.2
             }
            },
            "type": "histogram"
           }
          ],
          "histogram2d": [
           {
            "colorbar": {
             "outlinewidth": 0,
             "ticks": ""
            },
            "colorscale": [
             [
              0,
              "#0d0887"
             ],
             [
              0.1111111111111111,
              "#46039f"
             ],
             [
              0.2222222222222222,
              "#7201a8"
             ],
             [
              0.3333333333333333,
              "#9c179e"
             ],
             [
              0.4444444444444444,
              "#bd3786"
             ],
             [
              0.5555555555555556,
              "#d8576b"
             ],
             [
              0.6666666666666666,
              "#ed7953"
             ],
             [
              0.7777777777777778,
              "#fb9f3a"
             ],
             [
              0.8888888888888888,
              "#fdca26"
             ],
             [
              1,
              "#f0f921"
             ]
            ],
            "type": "histogram2d"
           }
          ],
          "histogram2dcontour": [
           {
            "colorbar": {
             "outlinewidth": 0,
             "ticks": ""
            },
            "colorscale": [
             [
              0,
              "#0d0887"
             ],
             [
              0.1111111111111111,
              "#46039f"
             ],
             [
              0.2222222222222222,
              "#7201a8"
             ],
             [
              0.3333333333333333,
              "#9c179e"
             ],
             [
              0.4444444444444444,
              "#bd3786"
             ],
             [
              0.5555555555555556,
              "#d8576b"
             ],
             [
              0.6666666666666666,
              "#ed7953"
             ],
             [
              0.7777777777777778,
              "#fb9f3a"
             ],
             [
              0.8888888888888888,
              "#fdca26"
             ],
             [
              1,
              "#f0f921"
             ]
            ],
            "type": "histogram2dcontour"
           }
          ],
          "mesh3d": [
           {
            "colorbar": {
             "outlinewidth": 0,
             "ticks": ""
            },
            "type": "mesh3d"
           }
          ],
          "parcoords": [
           {
            "line": {
             "colorbar": {
              "outlinewidth": 0,
              "ticks": ""
             }
            },
            "type": "parcoords"
           }
          ],
          "pie": [
           {
            "automargin": true,
            "type": "pie"
           }
          ],
          "scatter": [
           {
            "fillpattern": {
             "fillmode": "overlay",
             "size": 10,
             "solidity": 0.2
            },
            "type": "scatter"
           }
          ],
          "scatter3d": [
           {
            "line": {
             "colorbar": {
              "outlinewidth": 0,
              "ticks": ""
             }
            },
            "marker": {
             "colorbar": {
              "outlinewidth": 0,
              "ticks": ""
             }
            },
            "type": "scatter3d"
           }
          ],
          "scattercarpet": [
           {
            "marker": {
             "colorbar": {
              "outlinewidth": 0,
              "ticks": ""
             }
            },
            "type": "scattercarpet"
           }
          ],
          "scattergeo": [
           {
            "marker": {
             "colorbar": {
              "outlinewidth": 0,
              "ticks": ""
             }
            },
            "type": "scattergeo"
           }
          ],
          "scattergl": [
           {
            "marker": {
             "colorbar": {
              "outlinewidth": 0,
              "ticks": ""
             }
            },
            "type": "scattergl"
           }
          ],
          "scattermap": [
           {
            "marker": {
             "colorbar": {
              "outlinewidth": 0,
              "ticks": ""
             }
            },
            "type": "scattermap"
           }
          ],
          "scattermapbox": [
           {
            "marker": {
             "colorbar": {
              "outlinewidth": 0,
              "ticks": ""
             }
            },
            "type": "scattermapbox"
           }
          ],
          "scatterpolar": [
           {
            "marker": {
             "colorbar": {
              "outlinewidth": 0,
              "ticks": ""
             }
            },
            "type": "scatterpolar"
           }
          ],
          "scatterpolargl": [
           {
            "marker": {
             "colorbar": {
              "outlinewidth": 0,
              "ticks": ""
             }
            },
            "type": "scatterpolargl"
           }
          ],
          "scatterternary": [
           {
            "marker": {
             "colorbar": {
              "outlinewidth": 0,
              "ticks": ""
             }
            },
            "type": "scatterternary"
           }
          ],
          "surface": [
           {
            "colorbar": {
             "outlinewidth": 0,
             "ticks": ""
            },
            "colorscale": [
             [
              0,
              "#0d0887"
             ],
             [
              0.1111111111111111,
              "#46039f"
             ],
             [
              0.2222222222222222,
              "#7201a8"
             ],
             [
              0.3333333333333333,
              "#9c179e"
             ],
             [
              0.4444444444444444,
              "#bd3786"
             ],
             [
              0.5555555555555556,
              "#d8576b"
             ],
             [
              0.6666666666666666,
              "#ed7953"
             ],
             [
              0.7777777777777778,
              "#fb9f3a"
             ],
             [
              0.8888888888888888,
              "#fdca26"
             ],
             [
              1,
              "#f0f921"
             ]
            ],
            "type": "surface"
           }
          ],
          "table": [
           {
            "cells": {
             "fill": {
              "color": "#EBF0F8"
             },
             "line": {
              "color": "white"
             }
            },
            "header": {
             "fill": {
              "color": "#C8D4E3"
             },
             "line": {
              "color": "white"
             }
            },
            "type": "table"
           }
          ]
         },
         "layout": {
          "annotationdefaults": {
           "arrowcolor": "#2a3f5f",
           "arrowhead": 0,
           "arrowwidth": 1
          },
          "autotypenumbers": "strict",
          "coloraxis": {
           "colorbar": {
            "outlinewidth": 0,
            "ticks": ""
           }
          },
          "colorscale": {
           "diverging": [
            [
             0,
             "#8e0152"
            ],
            [
             0.1,
             "#c51b7d"
            ],
            [
             0.2,
             "#de77ae"
            ],
            [
             0.3,
             "#f1b6da"
            ],
            [
             0.4,
             "#fde0ef"
            ],
            [
             0.5,
             "#f7f7f7"
            ],
            [
             0.6,
             "#e6f5d0"
            ],
            [
             0.7,
             "#b8e186"
            ],
            [
             0.8,
             "#7fbc41"
            ],
            [
             0.9,
             "#4d9221"
            ],
            [
             1,
             "#276419"
            ]
           ],
           "sequential": [
            [
             0,
             "#0d0887"
            ],
            [
             0.1111111111111111,
             "#46039f"
            ],
            [
             0.2222222222222222,
             "#7201a8"
            ],
            [
             0.3333333333333333,
             "#9c179e"
            ],
            [
             0.4444444444444444,
             "#bd3786"
            ],
            [
             0.5555555555555556,
             "#d8576b"
            ],
            [
             0.6666666666666666,
             "#ed7953"
            ],
            [
             0.7777777777777778,
             "#fb9f3a"
            ],
            [
             0.8888888888888888,
             "#fdca26"
            ],
            [
             1,
             "#f0f921"
            ]
           ],
           "sequentialminus": [
            [
             0,
             "#0d0887"
            ],
            [
             0.1111111111111111,
             "#46039f"
            ],
            [
             0.2222222222222222,
             "#7201a8"
            ],
            [
             0.3333333333333333,
             "#9c179e"
            ],
            [
             0.4444444444444444,
             "#bd3786"
            ],
            [
             0.5555555555555556,
             "#d8576b"
            ],
            [
             0.6666666666666666,
             "#ed7953"
            ],
            [
             0.7777777777777778,
             "#fb9f3a"
            ],
            [
             0.8888888888888888,
             "#fdca26"
            ],
            [
             1,
             "#f0f921"
            ]
           ]
          },
          "colorway": [
           "#636efa",
           "#EF553B",
           "#00cc96",
           "#ab63fa",
           "#FFA15A",
           "#19d3f3",
           "#FF6692",
           "#B6E880",
           "#FF97FF",
           "#FECB52"
          ],
          "font": {
           "color": "#2a3f5f"
          },
          "geo": {
           "bgcolor": "white",
           "lakecolor": "white",
           "landcolor": "#E5ECF6",
           "showlakes": true,
           "showland": true,
           "subunitcolor": "white"
          },
          "hoverlabel": {
           "align": "left"
          },
          "hovermode": "closest",
          "mapbox": {
           "style": "light"
          },
          "paper_bgcolor": "white",
          "plot_bgcolor": "#E5ECF6",
          "polar": {
           "angularaxis": {
            "gridcolor": "white",
            "linecolor": "white",
            "ticks": ""
           },
           "bgcolor": "#E5ECF6",
           "radialaxis": {
            "gridcolor": "white",
            "linecolor": "white",
            "ticks": ""
           }
          },
          "scene": {
           "xaxis": {
            "backgroundcolor": "#E5ECF6",
            "gridcolor": "white",
            "gridwidth": 2,
            "linecolor": "white",
            "showbackground": true,
            "ticks": "",
            "zerolinecolor": "white"
           },
           "yaxis": {
            "backgroundcolor": "#E5ECF6",
            "gridcolor": "white",
            "gridwidth": 2,
            "linecolor": "white",
            "showbackground": true,
            "ticks": "",
            "zerolinecolor": "white"
           },
           "zaxis": {
            "backgroundcolor": "#E5ECF6",
            "gridcolor": "white",
            "gridwidth": 2,
            "linecolor": "white",
            "showbackground": true,
            "ticks": "",
            "zerolinecolor": "white"
           }
          },
          "shapedefaults": {
           "line": {
            "color": "#2a3f5f"
           }
          },
          "ternary": {
           "aaxis": {
            "gridcolor": "white",
            "linecolor": "white",
            "ticks": ""
           },
           "baxis": {
            "gridcolor": "white",
            "linecolor": "white",
            "ticks": ""
           },
           "bgcolor": "#E5ECF6",
           "caxis": {
            "gridcolor": "white",
            "linecolor": "white",
            "ticks": ""
           }
          },
          "title": {
           "x": 0.05
          },
          "xaxis": {
           "automargin": true,
           "gridcolor": "white",
           "linecolor": "white",
           "ticks": "",
           "title": {
            "standoff": 15
           },
           "zerolinecolor": "white",
           "zerolinewidth": 2
          },
          "yaxis": {
           "automargin": true,
           "gridcolor": "white",
           "linecolor": "white",
           "ticks": "",
           "title": {
            "standoff": 15
           },
           "zerolinecolor": "white",
           "zerolinewidth": 2
          }
         }
        },
        "title": {
         "font": {
          "size": 18
         },
         "text": "Average Gold per Spellcasting Class"
        },
        "width": 700,
        "xaxis": {
         "anchor": "y",
         "categoryarray": [
          "Bard",
          "Cleric",
          "Druid",
          "Sorcerer",
          "Warlock",
          "Wizard"
         ],
         "categoryorder": "array",
         "domain": [
          0,
          1
         ],
         "title": {
          "text": "Character Class"
         }
        },
        "yaxis": {
         "anchor": "x",
         "domain": [
          0,
          1
         ],
         "title": {
          "text": "Average Gold"
         }
        }
       }
      }
     },
     "metadata": {},
     "output_type": "display_data"
    }
   ],
   "source": [
    "import pandas as pd\n",
    "import plotly.express as px\n",
    "\n",
    "# Load dataset\n",
    "zip_path = \"over_one_mil_chars.zip\"\n",
    "df = pd.read_csv(zip_path, usecols=[\"class_starting\", \"gold\"])\n",
    "\n",
    "# Filter for spellcasting classes\n",
    "selected_classes = [\"Bard\", \"Cleric\", \"Druid\", \"Sorcerer\", \"Warlock\", \"Wizard\"]\n",
    "df_filtered = df[df[\"class_starting\"].isin(selected_classes)]\n",
    "\n",
    "# Remove extreme values\n",
    "# Tested this rigorously with a box plot first. Saw very few dots above 350,000\n",
    "# Tried standard deviation and IQR but both looked weird, so this was the compromise\n",
    "df_filtered = df_filtered[(df_filtered[\"gold\"] > 0) & (df_filtered[\"gold\"] < 350_000)]\n",
    "\n",
    "# Directly calculate the average gold per class\n",
    "df_avg_gold = df_filtered.groupby(\"class_starting\", as_index=False)[\"gold\"].mean()\n",
    "\n",
    "# Rename column for clarity\n",
    "df_avg_gold.rename(columns={\"gold\": \"Average Gold\"}, inplace=True)\n",
    "\n",
    "# Custom color scheme for D&D spellcasting classes\n",
    "class_colors = {\n",
    "    \"Bard\": \"#AB6DAC\",\n",
    "    \"Cleric\": \"#91A1B2\",\n",
    "    \"Druid\": \"#7A853B\",\n",
    "    \"Sorcerer\": \"#992E2E\",\n",
    "    \"Warlock\": \"#7B469B\",\n",
    "    \"Wizard\": \"#2A50A1\"\n",
    "}\n",
    "\n",
    "# Bar chart of average gold per class\n",
    "fig = px.bar(df_avg_gold, x=\"class_starting\", y=\"Average Gold\",\n",
    "             title=\"Average Gold per Spellcasting Class\",\n",
    "             labels={\"class_starting\": \"Class\", \"Average Gold\": \"Gold (Avg)\"},\n",
    "             color=\"class_starting\",color_discrete_map=class_colors)\n",
    "\n",
    "# Modify layout\n",
    "fig.update_layout(\n",
    "    width=700, \n",
    "    height=600,  \n",
    "    xaxis_title=\"Character Class\",\n",
    "    yaxis_title=\"Average Gold\",\n",
    "    title_font_size=18\n",
    ")\n",
    "\n",
    "fig.show()"
   ]
  }
 ],
 "metadata": {
  "kernelspec": {
   "display_name": ".venv",
   "language": "python",
   "name": "python3"
  },
  "language_info": {
   "codemirror_mode": {
    "name": "ipython",
    "version": 3
   },
   "file_extension": ".py",
   "mimetype": "text/x-python",
   "name": "python",
   "nbconvert_exporter": "python",
   "pygments_lexer": "ipython3",
   "version": "3.12.1"
  }
 },
 "nbformat": 4,
 "nbformat_minor": 2
}
